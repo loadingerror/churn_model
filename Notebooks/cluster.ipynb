{
 "cells": [
  {
   "attachments": {},
   "cell_type": "markdown",
   "metadata": {},
   "source": [
    "# 3. Clusterização"
   ]
  },
  {
   "attachments": {},
   "cell_type": "markdown",
   "metadata": {},
   "source": [
    "##### Libraries"
   ]
  },
  {
   "cell_type": "code",
   "execution_count": 15,
   "metadata": {},
   "outputs": [],
   "source": [
    "import joblib\n",
    "import numpy as np\n",
    "import pandas as pd\n",
    "import seaborn as sns\n",
    "#import plotly.express as px\n",
    "import matplotlib.pyplot as plt\n",
    "\n",
    "from copy import deepcopy\n",
    "from warnings import simplefilter \n",
    "#warnings.filterwarnings(\"ignore\")\n",
    "\n",
    "from sklearn.cluster import KMeans\n",
    "from sklearn.decomposition import PCA\n",
    "from sklearn.feature_selection import RFECV\n",
    "from sklearn.exceptions import ConvergenceWarning\n",
    "from sklearn.ensemble import RandomForestClassifier\n",
    "from sklearn.model_selection import StratifiedKFold\n",
    "\n",
    "simplefilter(action='ignore', category=ConvergenceWarning)\n",
    "simplefilter(action='ignore', category=FutureWarning)\n",
    "simplefilter(action='ignore', category=UserWarning)\n",
    "pd.set_option('display.max_columns', 999)\n",
    "pd.options.mode.chained_assignment = None"
   ]
  },
  {
   "cell_type": "code",
   "execution_count": 16,
   "metadata": {},
   "outputs": [],
   "source": [
    "from yellowbrick.cluster import KElbowVisualizer, SilhouetteVisualizer, InterclusterDistance\n",
    "plt.rcdefaults()\n",
    "import matplotlib.font_manager as font_manager"
   ]
  },
  {
   "attachments": {},
   "cell_type": "markdown",
   "metadata": {},
   "source": [
    "##### Funções"
   ]
  },
  {
   "cell_type": "code",
   "execution_count": 67,
   "metadata": {},
   "outputs": [],
   "source": [
    "def ideal_n_clusters(df, nclust=(3,15)):\n",
    "    model = KMeans(init='k-means++', random_state=13) \n",
    "    visualizer = KElbowVisualizer(model, k=nclust, metric='distortion') \n",
    "    visualizer.fit(df)         \n",
    "    visualizer.show() \n",
    "    \n",
    "def distancia_clusters(df, model):\n",
    "    visualizer = InterclusterDistance(model)\n",
    "    visualizer.fit(df)        \n",
    "    visualizer.show() \n",
    "    \n",
    "def silhueta_clusters(df, model): \n",
    "    visualizer = SilhouetteVisualizer(model, colors='yellowbrick')\n",
    "    visualizer.fit(df)\n",
    "    visualizer.show()  \n",
    "    \n",
    "def fit_model(df, model, save=False, outname='model'):\n",
    "    model.fit(df) \n",
    "    tmp = pd.concat([df, pd.DataFrame(model.labels_, columns=['cluster'])])\n",
    "    print(tmp.cluster.value_counts())\n",
    "    if save: \n",
    "        joblib.dump(model, f'./models/{outname}.joblib')\n",
    "        tmp.to_csv(f'./data/{outname}.csv', index=False)\n",
    "    return model, tmp\n",
    "\n",
    "def amostra_clusters(model, df_in, df_base, n_idx=3, save=False, outname='sample'):\n",
    "    df_ = pd.DataFrame() \n",
    "    nclust = model.get_params(['n_clusters'])['n_clusters']\n",
    "    index = []\n",
    "    label = []\n",
    "    for i in range(nclust):\n",
    "        for j in range(n_idx):\n",
    "            label.append(i)\n",
    "    for i in range(nclust):\n",
    "        d = model.transform(df_in)[:, i]\n",
    "        ind = np.argsort(d)[::][:n_idx]\n",
    "        df_ = pd.concat([df_, df_base.iloc[ind]], ignore_index=True) \n",
    "        for j in ind:\n",
    "            index.append(j)\n",
    "    \n",
    "    df_['index'] = index\n",
    "    df_['cluster'] = label\n",
    "    if save: df_.to_csv(f'{outname}.csv', index=False)\n",
    "    return df_, index\n",
    "\n",
    "def plot_clusters(df, model):\n",
    "    pca = PCA(2)\n",
    "    model_ = deepcopy(model)\n",
    "    df_ = pca.fit_transform(df)\n",
    "    model_.fit(df_) \n",
    "    df_ = pd.DataFrame(df_, columns=['pca0', 'pca1'])\n",
    "    df_['cluster'] = model_.labels_\n",
    "    sns.scatterplot(x='pca0', y='pca1', hue='cluster', data=df_, s=20, alpha=0.6, palette='tab10')\n",
    "    plt.scatter(model_.cluster_centers_[:,0], model_.cluster_centers_[:,1], marker='x', s=70, c='k') #c=range(len(model_.cluster_centers_[:,0])), cmap='tab10')"
   ]
  },
  {
   "cell_type": "code",
   "execution_count": 32,
   "metadata": {},
   "outputs": [],
   "source": [
    "import matplotlib.patheffects as path_effects\n",
    "\n",
    "\n",
    "def add_median_labels(ax, fmt='.1f'):\n",
    "    lines = ax.get_lines()\n",
    "    boxes = [c for c in ax.get_children() if type(c).__name__ == 'PathPatch']\n",
    "    lines_per_box = int(len(lines) / len(boxes))\n",
    "    for median in lines[4:len(lines):lines_per_box]:\n",
    "        x, y = (data.mean() for data in median.get_data())\n",
    "        # choose value depending on horizontal or vertical plot orientation\n",
    "        value = x if (median.get_xdata()[1] - median.get_xdata()[0]) == 0 else y\n",
    "        text = ax.text(x, y, f'{value:{fmt}}', ha='center', va='center',\n",
    "                       fontweight='bold', color='white')\n",
    "        # create median-colored border around white text for contrast\n",
    "        text.set_path_effects([\n",
    "            path_effects.Stroke(linewidth=3, foreground=median.get_color()),\n",
    "            path_effects.Normal(),\n",
    "        ])"
   ]
  },
  {
   "attachments": {},
   "cell_type": "markdown",
   "metadata": {},
   "source": [
    "##### Dados originais"
   ]
  },
  {
   "cell_type": "code",
   "execution_count": 114,
   "metadata": {},
   "outputs": [],
   "source": [
    "df_clean = pd.read_csv('./data/xxxxxxxxxxx.csv')\n",
    "df_norm = pd.read_csv('./data/xxxxxxxxxxxxx.csv')"
   ]
  },
  {
   "attachments": {},
   "cell_type": "markdown",
   "metadata": {},
   "source": [
    "##### 1. RFE + RF"
   ]
  },
  {
   "cell_type": "code",
   "execution_count": 36,
   "metadata": {},
   "outputs": [],
   "source": [
    "X = df_norm.drop('xxxxx', axis=1)\n",
    "y = df_norm.xxxxx.values #target"
   ]
  },
  {
   "cell_type": "code",
   "execution_count": 37,
   "metadata": {},
   "outputs": [],
   "source": [
    "rfc = RandomForestClassifier(random_state=101, class_weight='balanced')\n",
    "kfold = StratifiedKFold(n_splits=5, shuffle=True) \n",
    "cv = kfold.split(X, y)\n",
    "rfecv = RFECV(estimator=rfc, step=5, min_features_to_select=15, cv=cv)"
   ]
  },
  {
   "cell_type": "code",
   "execution_count": 38,
   "metadata": {},
   "outputs": [
    {
     "data": {
      "text/plain": [
       "RFECV(cv=<generator object _BaseKFold.split at 0x7f2cee58c4a0>,\n",
       "      estimator=RandomForestClassifier(class_weight='balanced',\n",
       "                                       random_state=101),\n",
       "      min_features_to_select=15, step=5)"
      ]
     },
     "execution_count": 38,
     "metadata": {},
     "output_type": "execute_result"
    }
   ],
   "source": [
    "rfecv.fit(X, y)"
   ]
  },
  {
   "cell_type": "code",
   "execution_count": 44,
   "metadata": {},
   "outputs": [
    {
     "name": "stdout",
     "output_type": "stream",
     "text": [
      "Optimal number of features: 15\n"
     ]
    }
   ],
   "source": [
    "print('Optimal number of features: {}'.format(rfecv.n_features_))"
   ]
  },
  {
   "cell_type": "code",
   "execution_count": 1,
   "metadata": {},
   "outputs": [
    {
     "ename": "NameError",
     "evalue": "name 'X' is not defined",
     "output_type": "error",
     "traceback": [
      "\u001b[1;31m---------------------------------------------------------------------------\u001b[0m",
      "\u001b[1;31mNameError\u001b[0m                                 Traceback (most recent call last)",
      "\u001b[1;32mc:\\Users\\marinaferreira\\Downloads\\3-Clustering_RFE.ipynb Célula 15\u001b[0m line \u001b[0;36m1\n\u001b[1;32m----> <a href='vscode-notebook-cell:/c%3A/Users/marinaferreira/Downloads/3-Clustering_RFE.ipynb#X20sZmlsZQ%3D%3D?line=0'>1</a>\u001b[0m X2 \u001b[39m=\u001b[39m X\u001b[39m.\u001b[39mdrop(X\u001b[39m.\u001b[39mcolumns[np\u001b[39m.\u001b[39mwhere(rfecv\u001b[39m.\u001b[39msupport_ \u001b[39m==\u001b[39m \u001b[39mFalse\u001b[39;00m)[\u001b[39m0\u001b[39m]], axis\u001b[39m=\u001b[39m\u001b[39m1\u001b[39m)\n\u001b[0;32m      <a href='vscode-notebook-cell:/c%3A/Users/marinaferreira/Downloads/3-Clustering_RFE.ipynb#X20sZmlsZQ%3D%3D?line=2'>3</a>\u001b[0m dset \u001b[39m=\u001b[39m pd\u001b[39m.\u001b[39mDataFrame()\n\u001b[0;32m      <a href='vscode-notebook-cell:/c%3A/Users/marinaferreira/Downloads/3-Clustering_RFE.ipynb#X20sZmlsZQ%3D%3D?line=4'>5</a>\u001b[0m dset[\u001b[39m'\u001b[39m\u001b[39mattr\u001b[39m\u001b[39m'\u001b[39m] \u001b[39m=\u001b[39m X2\u001b[39m.\u001b[39mcolumns\n",
      "\u001b[1;31mNameError\u001b[0m: name 'X' is not defined"
     ]
    }
   ],
   "source": [
    "X2 = X.drop(X.columns[np.where(rfecv.support_ == False)[0]], axis=1)\n",
    "\n",
    "dset = pd.DataFrame()\n",
    "\n",
    "dset['attr'] = X2.columns\n",
    "dset['importance'] = rfecv.estimator_.feature_importances_\n",
    "dset = dset.sort_values(by='importance', ascending=True)\n",
    "\n",
    "fig = plt.figure(figsize=(16, 12))\n",
    "plt.barh(y=dset['attr'], width=dset['importance'], color='red')\n",
    "plt.title('RFECV - Feature Importances', fontsize=20, fontweight='bold', pad=20)\n",
    "plt.xlabel('Importance', fontsize=14, labelpad=20)\n",
    "plt.show()"
   ]
  },
  {
   "cell_type": "code",
   "execution_count": null,
   "metadata": {},
   "outputs": [
    {
     "name": "stdout",
     "output_type": "stream",
     "text": [
      "['DIAS_EM_ATRASO-90-120: 0.00%', 'SALDO_DEVEDOR: 0.00%', 'SCORE_ATUAL: 0.01%', 'DIAS_EM_ATRASO-180-360: 0.01%', 'TEMPO_MIN_CONTRATO_FIN: 0.42%', 'PERC_SALDO_DEVEDOR: 1.44%', 'MEDIA_DIAS_EM_ATRASO: 1.64%', 'N_PARC_EM_ATRASO: 5.61%', 'PERC_CONTRATO_ATRASADO: 6.42%', 'MAX_DIAS_EM_ATRASO: 7.36%', 'VALOR_MEDIO_PARCELAS_ATRASO: 10.28%', 'PERC_CONTRATO_INADIMPLENTE: 15.60%', 'VALOR_INADIMPLENTE: 15.92%', 'VALOR_MEDIO_PARCELAS_INADIMPLENTES: 16.99%', 'N_PARC_INADIMPLENTE: 18.31%']\n"
     ]
    }
   ],
   "source": [
    "print([f'{x}: {y*100:.2f}%' for x,y in zip(dset.attr, dset.importance.sort_values(ascending=True))])"
   ]
  },
  {
   "cell_type": "code",
   "execution_count": null,
   "metadata": {},
   "outputs": [
    {
     "data": {
      "text/plain": [
       "9                  DIAS_EM_ATRASO-90-120\n",
       "13                         SALDO_DEVEDOR\n",
       "10                           SCORE_ATUAL\n",
       "8                 DIAS_EM_ATRASO-180-360\n",
       "0                 TEMPO_MIN_CONTRATO_FIN\n",
       "14                    PERC_SALDO_DEVEDOR\n",
       "4                   MEDIA_DIAS_EM_ATRASO\n",
       "6                       N_PARC_EM_ATRASO\n",
       "11                PERC_CONTRATO_ATRASADO\n",
       "3                     MAX_DIAS_EM_ATRASO\n",
       "1            VALOR_MEDIO_PARCELAS_ATRASO\n",
       "12            PERC_CONTRATO_INADIMPLENTE\n",
       "5                     VALOR_INADIMPLENTE\n",
       "2     VALOR_MEDIO_PARCELAS_INADIMPLENTES\n",
       "7                    N_PARC_INADIMPLENTE\n",
       "Name: attr, dtype: object"
      ]
     },
     "execution_count": 47,
     "metadata": {},
     "output_type": "execute_result"
    }
   ],
   "source": [
    "cols_rfe = dset.attr\n",
    "cols_rfe"
   ]
  },
  {
   "cell_type": "code",
   "execution_count": 2,
   "metadata": {},
   "outputs": [
    {
     "ename": "NameError",
     "evalue": "name 'df_norm' is not defined",
     "output_type": "error",
     "traceback": [
      "\u001b[1;31m---------------------------------------------------------------------------\u001b[0m",
      "\u001b[1;31mNameError\u001b[0m                                 Traceback (most recent call last)",
      "\u001b[1;32mc:\\Users\\marinaferreira\\Downloads\\3-Clustering_RFE.ipynb Célula 18\u001b[0m line \u001b[0;36m1\n\u001b[1;32m----> <a href='vscode-notebook-cell:/c%3A/Users/marinaferreira/Downloads/3-Clustering_RFE.ipynb#X23sZmlsZQ%3D%3D?line=0'>1</a>\u001b[0m df_rfe \u001b[39m=\u001b[39m df_norm[cols_rfe\u001b[39m.\u001b[39mtolist()\u001b[39m+\u001b[39m[\n\u001b[0;32m      <a href='vscode-notebook-cell:/c%3A/Users/marinaferreira/Downloads/3-Clustering_RFE.ipynb#X23sZmlsZQ%3D%3D?line=1'>2</a>\u001b[0m \u001b[39m'\u001b[39m\u001b[39mlista de colunas do rfe\u001b[39m\u001b[39m'\u001b[39m]]\n\u001b[0;32m      <a href='vscode-notebook-cell:/c%3A/Users/marinaferreira/Downloads/3-Clustering_RFE.ipynb#X23sZmlsZQ%3D%3D?line=2'>3</a>\u001b[0m df_rfe\u001b[39m.\u001b[39mhead(\u001b[39m3\u001b[39m)\n",
      "\u001b[1;31mNameError\u001b[0m: name 'df_norm' is not defined"
     ]
    }
   ],
   "source": [
    "df_rfe = df_norm[cols_rfe.tolist()+[\n",
    "'lista de colunas do rfe']]\n",
    "df_rfe.head(3)"
   ]
  },
  {
   "cell_type": "code",
   "execution_count": 61,
   "metadata": {},
   "outputs": [],
   "source": [
    "df_rfe.to_csv('./data/data_rfe_norm.csv', index=False)"
   ]
  },
  {
   "attachments": {},
   "cell_type": "markdown",
   "metadata": {},
   "source": [
    "##### 2. Clusterização usando Kmeans"
   ]
  },
  {
   "cell_type": "code",
   "execution_count": 62,
   "metadata": {},
   "outputs": [],
   "source": [
    "df_rfe = pd.read_csv('./data/data_rfe_norm.csv')"
   ]
  },
  {
   "cell_type": "code",
   "execution_count": 63,
   "metadata": {},
   "outputs": [
    {
     "data": {
      "image/png": "[encoded data removed]",
      "text/plain": [
       "<Figure size 640x480 with 2 Axes>"
      ]
     },
     "metadata": {},
     "output_type": "display_data"
    }
   ],
   "source": [
    "ideal_n_clusters(df_rfe, nclust=(2,15))"
   ]
  },
  {
   "cell_type": "code",
   "execution_count": 64,
   "metadata": {},
   "outputs": [],
   "source": [
    "kmeans = KMeans(n_clusters=5, init='k-means++', random_state=13)"
   ]
  },
  {
   "cell_type": "code",
   "execution_count": 65,
   "metadata": {},
   "outputs": [
    {
     "data": {
      "image/png": "[encoded data removed]",
      "text/plain": [
       "<Figure size 640x480 with 2 Axes>"
      ]
     },
     "metadata": {},
     "output_type": "display_data"
    }
   ],
   "source": [
    "distancia_clusters(df_rfe, kmeans)"
   ]
  },
  {
   "cell_type": "code",
   "execution_count": 68,
   "metadata": {},
   "outputs": [
    {
     "data": {
      "image/png": "[encoded data removed]",
      "text/plain": [
       "<Figure size 640x480 with 1 Axes>"
      ]
     },
     "metadata": {},
     "output_type": "display_data"
    }
   ],
   "source": [
    "plot_clusters(df_rfe, kmeans)"
   ]
  },
  {
   "cell_type": "code",
   "execution_count": 70,
   "metadata": {},
   "outputs": [
    {
     "name": "stdout",
     "output_type": "stream",
     "text": [
      "4.0    75437\n",
      "1.0    58818\n",
      "0.0    48198\n",
      "2.0    33689\n",
      "3.0    32044\n",
      "Name: cluster, dtype: int64\n"
     ]
    }
   ],
   "source": [
    "kmeans_fit, _ = fit_model(df_rfe, kmeans, save=True, outname='kmeans_rfe')"
   ]
  },
  {
   "cell_type": "code",
   "execution_count": 3,
   "metadata": {},
   "outputs": [
    {
     "ename": "NameError",
     "evalue": "name 'amostra_clusters' is not defined",
     "output_type": "error",
     "traceback": [
      "\u001b[1;31m---------------------------------------------------------------------------\u001b[0m",
      "\u001b[1;31mNameError\u001b[0m                                 Traceback (most recent call last)",
      "\u001b[1;32mc:\\Users\\marinaferreira\\Downloads\\3-Clustering_RFE.ipynb Célula 27\u001b[0m line \u001b[0;36m1\n\u001b[1;32m----> <a href='vscode-notebook-cell:/c%3A/Users/marinaferreira/Downloads/3-Clustering_RFE.ipynb#X35sZmlsZQ%3D%3D?line=0'>1</a>\u001b[0m sample, index \u001b[39m=\u001b[39m amostra_clusters(kmeans_fit, df_rfe, df_clean, n_idx\u001b[39m=\u001b[39m\u001b[39m50\u001b[39m, save\u001b[39m=\u001b[39m\u001b[39mTrue\u001b[39;00m, outname\u001b[39m=\u001b[39m\u001b[39m'\u001b[39m\u001b[39m./data/sample_rfe\u001b[39m\u001b[39m'\u001b[39m)\n\u001b[0;32m      <a href='vscode-notebook-cell:/c%3A/Users/marinaferreira/Downloads/3-Clustering_RFE.ipynb#X35sZmlsZQ%3D%3D?line=1'>2</a>\u001b[0m sample\n",
      "\u001b[1;31mNameError\u001b[0m: name 'amostra_clusters' is not defined"
     ]
    }
   ],
   "source": [
    "sample, index = amostra_clusters(kmeans_fit, df_rfe, df_clean, n_idx=50, save=True, outname='./data/sample_rfe')\n",
    "sample"
   ]
  },
  {
   "cell_type": "code",
   "execution_count": 4,
   "metadata": {},
   "outputs": [
    {
     "ename": "NameError",
     "evalue": "name 'plot_clusters' is not defined",
     "output_type": "error",
     "traceback": [
      "\u001b[1;31m---------------------------------------------------------------------------\u001b[0m",
      "\u001b[1;31mNameError\u001b[0m                                 Traceback (most recent call last)",
      "\u001b[1;32mc:\\Users\\marinaferreira\\Downloads\\3-Clustering_RFE.ipynb Célula 28\u001b[0m line \u001b[0;36m1\n\u001b[1;32m----> <a href='vscode-notebook-cell:/c%3A/Users/marinaferreira/Downloads/3-Clustering_RFE.ipynb#X36sZmlsZQ%3D%3D?line=0'>1</a>\u001b[0m plot_clusters(df_norm\u001b[39m.\u001b[39miloc[index], kmeans)\n",
      "\u001b[1;31mNameError\u001b[0m: name 'plot_clusters' is not defined"
     ]
    }
   ],
   "source": [
    "plot_clusters(df_norm.iloc[index], kmeans)"
   ]
  },
  {
   "cell_type": "code",
   "execution_count": 73,
   "metadata": {},
   "outputs": [],
   "source": [
    "# Loading kmeans model \n",
    "\n",
    "kmeans_rfe = joblib.load('./models/kmeans_rfe.joblib')"
   ]
  },
  {
   "cell_type": "code",
   "execution_count": 112,
   "metadata": {},
   "outputs": [],
   "source": [
    "# Loading dataframe generated in RFE step\n",
    "\n",
    "df_rfe = pd.read_csv('./data/data_rfe_norm.csv')"
   ]
  },
  {
   "cell_type": "code",
   "execution_count": 5,
   "metadata": {},
   "outputs": [
    {
     "ename": "NameError",
     "evalue": "name 'df_rfe' is not defined",
     "output_type": "error",
     "traceback": [
      "\u001b[1;31m---------------------------------------------------------------------------\u001b[0m",
      "\u001b[1;31mNameError\u001b[0m                                 Traceback (most recent call last)",
      "\u001b[1;32mc:\\Users\\marinaferreira\\Downloads\\3-Clustering_RFE.ipynb Célula 31\u001b[0m line \u001b[0;36m1\n\u001b[1;32m----> <a href='vscode-notebook-cell:/c%3A/Users/marinaferreira/Downloads/3-Clustering_RFE.ipynb#X42sZmlsZQ%3D%3D?line=0'>1</a>\u001b[0m df_rfe\u001b[39m.\u001b[39mcolumns\u001b[39m.\u001b[39mtolist()\n",
      "\u001b[1;31mNameError\u001b[0m: name 'df_rfe' is not defined"
     ]
    }
   ],
   "source": [
    "df_rfe.columns.tolist()"
   ]
  },
  {
   "cell_type": "code",
   "execution_count": 6,
   "metadata": {},
   "outputs": [
    {
     "ename": "NameError",
     "evalue": "name 'df_clean' is not defined",
     "output_type": "error",
     "traceback": [
      "\u001b[1;31m---------------------------------------------------------------------------\u001b[0m",
      "\u001b[1;31mNameError\u001b[0m                                 Traceback (most recent call last)",
      "\u001b[1;32mc:\\Users\\marinaferreira\\Downloads\\3-Clustering_RFE.ipynb Célula 32\u001b[0m line \u001b[0;36m3\n\u001b[0;32m      <a href='vscode-notebook-cell:/c%3A/Users/marinaferreira/Downloads/3-Clustering_RFE.ipynb#X43sZmlsZQ%3D%3D?line=0'>1</a>\u001b[0m \u001b[39m# Getting cluster prediction for all \u001b[39;00m\n\u001b[1;32m----> <a href='vscode-notebook-cell:/c%3A/Users/marinaferreira/Downloads/3-Clustering_RFE.ipynb#X43sZmlsZQ%3D%3D?line=2'>3</a>\u001b[0m data_rfe \u001b[39m=\u001b[39m df_clean\u001b[39m.\u001b[39mcopy()\n\u001b[0;32m      <a href='vscode-notebook-cell:/c%3A/Users/marinaferreira/Downloads/3-Clustering_RFE.ipynb#X43sZmlsZQ%3D%3D?line=3'>4</a>\u001b[0m data_rfe[\u001b[39m'\u001b[39m\u001b[39mcluster\u001b[39m\u001b[39m'\u001b[39m] \u001b[39m=\u001b[39m kmeans_rfe\u001b[39m.\u001b[39mpredict(df_rfe)\n\u001b[0;32m      <a href='vscode-notebook-cell:/c%3A/Users/marinaferreira/Downloads/3-Clustering_RFE.ipynb#X43sZmlsZQ%3D%3D?line=4'>5</a>\u001b[0m data_rfe\u001b[39m.\u001b[39mhead(\u001b[39m3\u001b[39m)\n",
      "\u001b[1;31mNameError\u001b[0m: name 'df_clean' is not defined"
     ]
    }
   ],
   "source": [
    "# Getting cluster prediction for all \n",
    "\n",
    "data_rfe = df_clean.copy()\n",
    "data_rfe['cluster'] = kmeans_rfe.predict(df_rfe)\n",
    "data_rfe.head(3)"
   ]
  },
  {
   "cell_type": "code",
   "execution_count": 7,
   "metadata": {},
   "outputs": [
    {
     "ename": "NameError",
     "evalue": "name 'data_rfe' is not defined",
     "output_type": "error",
     "traceback": [
      "\u001b[1;31m---------------------------------------------------------------------------\u001b[0m",
      "\u001b[1;31mNameError\u001b[0m                                 Traceback (most recent call last)",
      "\u001b[1;32mc:\\Users\\marinaferreira\\Downloads\\3-Clustering_RFE.ipynb Célula 33\u001b[0m line \u001b[0;36m3\n\u001b[0;32m      <a href='vscode-notebook-cell:/c%3A/Users/marinaferreira/Downloads/3-Clustering_RFE.ipynb#X44sZmlsZQ%3D%3D?line=0'>1</a>\u001b[0m \u001b[39m# Distribution into clusters\u001b[39;00m\n\u001b[1;32m----> <a href='vscode-notebook-cell:/c%3A/Users/marinaferreira/Downloads/3-Clustering_RFE.ipynb#X44sZmlsZQ%3D%3D?line=2'>3</a>\u001b[0m data_rfe\u001b[39m.\u001b[39mcluster\u001b[39m.\u001b[39mvalue_counts()\n",
      "\u001b[1;31mNameError\u001b[0m: name 'data_rfe' is not defined"
     ]
    }
   ],
   "source": [
    "# Distribution into clusters\n",
    "\n",
    "data_rfe.cluster.value_counts()"
   ]
  },
  {
   "cell_type": "code",
   "execution_count": 77,
   "metadata": {},
   "outputs": [],
   "source": [
    "# Saving csv for analysis\n",
    "\n",
    "data_rfe.to_csv('./data/dados_cluster_rfe.csv', index=False)"
   ]
  },
  {
   "cell_type": "code",
   "execution_count": null,
   "metadata": {},
   "outputs": [],
   "source": [
    "### Parei aqui"
   ]
  },
  {
   "attachments": {},
   "cell_type": "markdown",
   "metadata": {},
   "source": [
    "##### 3. EDA dos clusters"
   ]
  },
  {
   "cell_type": "code",
   "execution_count": 473,
   "metadata": {},
   "outputs": [],
   "source": [
    "data_rfe = pd.read_csv('./data/dados_cluster_rfe.csv')"
   ]
  },
  {
   "cell_type": "code",
   "execution_count": 8,
   "metadata": {},
   "outputs": [
    {
     "ename": "NameError",
     "evalue": "name 'xxxxxxxxxxxxx' is not defined",
     "output_type": "error",
     "traceback": [
      "\u001b[1;31m---------------------------------------------------------------------------\u001b[0m",
      "\u001b[1;31mNameError\u001b[0m                                 Traceback (most recent call last)",
      "\u001b[1;32mc:\\Users\\marinaferreira\\Downloads\\3-Clustering_RFE.ipynb Célula 38\u001b[0m line \u001b[0;36m1\n\u001b[0;32m     <a href='vscode-notebook-cell:/c%3A/Users/marinaferreira/Downloads/3-Clustering_RFE.ipynb#X52sZmlsZQ%3D%3D?line=11'>12</a>\u001b[0m         \u001b[39mreturn\u001b[39;00m b[\u001b[39m-\u001b[39m\u001b[39m12\u001b[39m:\u001b[39m-\u001b[39m\u001b[39m9\u001b[39m]\u001b[39m+\u001b[39m\u001b[39m'\u001b[39m\u001b[39m.\u001b[39m\u001b[39m'\u001b[39m\u001b[39m+\u001b[39mb[\u001b[39m-\u001b[39m\u001b[39m9\u001b[39m:\u001b[39m-\u001b[39m\u001b[39m6\u001b[39m]\u001b[39m+\u001b[39m\u001b[39m'\u001b[39m\u001b[39m.\u001b[39m\u001b[39m'\u001b[39m\u001b[39m+\u001b[39mb[\u001b[39m-\u001b[39m\u001b[39m6\u001b[39m:\u001b[39m-\u001b[39m\u001b[39m3\u001b[39m]\u001b[39m+\u001b[39m\u001b[39m'\u001b[39m\u001b[39m.\u001b[39m\u001b[39m'\u001b[39m\u001b[39m+\u001b[39mb[\u001b[39m-\u001b[39m\u001b[39m3\u001b[39m:]\u001b[39m+\u001b[39m\u001b[39m'\u001b[39m\u001b[39m,\u001b[39m\u001b[39m'\u001b[39m\u001b[39m+\u001b[39ma\n\u001b[0;32m     <a href='vscode-notebook-cell:/c%3A/Users/marinaferreira/Downloads/3-Clustering_RFE.ipynb#X52sZmlsZQ%3D%3D?line=13'>14</a>\u001b[0m \u001b[39m# Para variáveis numéricas!\u001b[39;00m\n\u001b[0;32m     <a href='vscode-notebook-cell:/c%3A/Users/marinaferreira/Downloads/3-Clustering_RFE.ipynb#X52sZmlsZQ%3D%3D?line=14'>15</a>\u001b[0m \n\u001b[0;32m     <a href='vscode-notebook-cell:/c%3A/Users/marinaferreira/Downloads/3-Clustering_RFE.ipynb#X52sZmlsZQ%3D%3D?line=15'>16</a>\u001b[0m \u001b[39m# colunas = [xxxxxxxxxxxxxx]\u001b[39;00m\n\u001b[0;32m     <a href='vscode-notebook-cell:/c%3A/Users/marinaferreira/Downloads/3-Clustering_RFE.ipynb#X52sZmlsZQ%3D%3D?line=16'>17</a>\u001b[0m \u001b[39m# colunas = ['xxxxxxxxxxxx\u001b[39;00m\n\u001b[0;32m     <a href='vscode-notebook-cell:/c%3A/Users/marinaferreira/Downloads/3-Clustering_RFE.ipynb#X52sZmlsZQ%3D%3D?line=17'>18</a>\u001b[0m \u001b[39m# ]\u001b[39;00m\n\u001b[1;32m---> <a href='vscode-notebook-cell:/c%3A/Users/marinaferreira/Downloads/3-Clustering_RFE.ipynb#X52sZmlsZQ%3D%3D?line=18'>19</a>\u001b[0m colunas \u001b[39m=\u001b[39m [xxxxxxxxxxxxx]\n\u001b[0;32m     <a href='vscode-notebook-cell:/c%3A/Users/marinaferreira/Downloads/3-Clustering_RFE.ipynb#X52sZmlsZQ%3D%3D?line=19'>20</a>\u001b[0m cluster_valores \u001b[39m=\u001b[39m []\n\u001b[0;32m     <a href='vscode-notebook-cell:/c%3A/Users/marinaferreira/Downloads/3-Clustering_RFE.ipynb#X52sZmlsZQ%3D%3D?line=20'>21</a>\u001b[0m cluster_nomes \u001b[39m=\u001b[39m []\n",
      "\u001b[1;31mNameError\u001b[0m: name 'xxxxxxxxxxxxx' is not defined"
     ]
    }
   ],
   "source": [
    "def format_numbers(x, d=2):\n",
    "    x = str(round(x,d)).replace('.', ',')\n",
    "    b = x.split(',')[0]\n",
    "    a = x.split(',')[1]\n",
    "    if len(b) <= 3:\n",
    "        return x\n",
    "    elif 3 < len(b) <= 6:\n",
    "        return b[-10:-3]+'.'+b[-3:]+','+a\n",
    "    elif 6 < len(b) <= 9:\n",
    "        return b[-9:-6]+'.'+b[-6:-3]+'.'+b[-3:]+','+a\n",
    "    else:\n",
    "        return b[-12:-9]+'.'+b[-9:-6]+'.'+b[-6:-3]+'.'+b[-3:]+','+a\n",
    "    \n",
    "# Para variáveis numéricas!\n",
    "\n",
    "# colunas = [xxxxxxxxxxxxxx]\n",
    "# colunas = ['xxxxxxxxxxxx\n",
    "# ]\n",
    "colunas = [xxxxxxxxxxxxx]\n",
    "cluster_valores = []\n",
    "cluster_nomes = []\n",
    "dec = 2\n",
    "for col in colunas:\n",
    "    print('###', col, '###')\n",
    "    div = 365 if 'TEMPO' in col else 1\n",
    "    mul = 100 if 'PERC' in col else 1\n",
    "    sig = '%' if 'PERC' in col else ''\n",
    "    rsig = 'R$' if 'VALOR' in col or 'SALDO' in col and 'PERC' not in col else ''\n",
    "    \n",
    "    for i in range(5): \n",
    "        x_media_sim = data_rfe[col].where((data_rfe.cluster == i) & (data_rfe.INADIMPLENTE == 'SIM')).mean()*mul/div\n",
    "        x_mediana_sim = data_rfe[col].where((data_rfe.cluster == i) & (data_rfe.INADIMPLENTE == 'SIM')).median()*mul/div\n",
    "        \n",
    "        cluster_valores.append(' | ' + f'{rsig}{format_numbers(x_media_sim, dec)}{sig}' + '(' +  f'{rsig}{format_numbers(x_mediana_sim, dec)}{sig}' + ')')\n",
    "        cluster_nomes.append(f'| '+ col + ' '+'**Inad**')\n",
    "        \n",
    "        x_media_nao = data_rfe[col].where((data_rfe.cluster == i) & (data_rfe.INADIMPLENTE == 'NAO')).mean()*mul/div\n",
    "        x_mediana_nao = data_rfe[col].where((data_rfe.cluster == i) & (data_rfe.INADIMPLENTE == 'NAO')).median()*mul/div\n",
    "\n",
    "        cluster_valores.append(' | ' + f'{rsig}{format_numbers(x_media_nao, dec)}{sig}' + '(' +  f'{rsig}{format_numbers(x_mediana_nao, dec)}{sig}' + ')')\n",
    "        cluster_nomes.append(f'| '+ col + ' '+'**Adim**')\n",
    "\n",
    "        \n",
    "        x_media_g = data_rfe[col].where((data_rfe.cluster == i)).mean()*mul/div\n",
    "        x_mediana_g = data_rfe[col].where((data_rfe.cluster == i)).median()*mul/div\n",
    "\n",
    "        cluster_valores.append(' | ' + f'{rsig}{format_numbers(x_media_g, dec)}{sig}' + '(' +  f'{rsig}{format_numbers(x_mediana_g, dec)}{sig}' + ')')\n",
    "        cluster_nomes.append(f'| '+ col + ' '+'**Geral**')"
   ]
  },
  {
   "cell_type": "code",
   "execution_count": 9,
   "metadata": {},
   "outputs": [
    {
     "ename": "NameError",
     "evalue": "name 'cluster_valores' is not defined",
     "output_type": "error",
     "traceback": [
      "\u001b[1;31m---------------------------------------------------------------------------\u001b[0m",
      "\u001b[1;31mNameError\u001b[0m                                 Traceback (most recent call last)",
      "\u001b[1;32mc:\\Users\\marinaferreira\\Downloads\\3-Clustering_RFE.ipynb Célula 39\u001b[0m line \u001b[0;36m1\n\u001b[1;32m----> <a href='vscode-notebook-cell:/c%3A/Users/marinaferreira/Downloads/3-Clustering_RFE.ipynb#X53sZmlsZQ%3D%3D?line=0'>1</a>\u001b[0m d \u001b[39m=\u001b[39m {\u001b[39m'\u001b[39m\u001b[39mvalores\u001b[39m\u001b[39m'\u001b[39m: cluster_valores, \u001b[39m'\u001b[39m\u001b[39mvariavel\u001b[39m\u001b[39m'\u001b[39m: cluster_nomes}\n\u001b[0;32m      <a href='vscode-notebook-cell:/c%3A/Users/marinaferreira/Downloads/3-Clustering_RFE.ipynb#X53sZmlsZQ%3D%3D?line=1'>2</a>\u001b[0m df \u001b[39m=\u001b[39m pd\u001b[39m.\u001b[39mDataFrame(data\u001b[39m=\u001b[39md)\n\u001b[0;32m      <a href='vscode-notebook-cell:/c%3A/Users/marinaferreira/Downloads/3-Clustering_RFE.ipynb#X53sZmlsZQ%3D%3D?line=3'>4</a>\u001b[0m df \u001b[39m=\u001b[39m df\u001b[39m.\u001b[39mgroupby(\u001b[39m'\u001b[39m\u001b[39mvariavel\u001b[39m\u001b[39m'\u001b[39m)[\u001b[39m'\u001b[39m\u001b[39mvalores\u001b[39m\u001b[39m'\u001b[39m]\u001b[39m.\u001b[39mapply(\u001b[39mlist\u001b[39m)\u001b[39m.\u001b[39mreset_index(name\u001b[39m=\u001b[39m\u001b[39m'\u001b[39m\u001b[39mvalores\u001b[39m\u001b[39m'\u001b[39m)\n",
      "\u001b[1;31mNameError\u001b[0m: name 'cluster_valores' is not defined"
     ]
    }
   ],
   "source": [
    "d = {'valores': cluster_valores, 'variavel': cluster_nomes}\n",
    "df = pd.DataFrame(data=d)\n",
    "\n",
    "df = df.groupby('variavel')['valores'].apply(list).reset_index(name='valores')\n",
    "df['valores'] = df['valores'].apply(lambda x:  ' '.join(str(item) for item in x))\n",
    "\n",
    "df[['variavel','valores']] = df[['variavel','valores']].astype(str)\n",
    "df['out'] = df['variavel'] + df['valores']\n",
    "\n",
    "lista = df['out'].tolist()\n",
    "retorno = [x + ' |' for x in lista]\n"
   ]
  },
  {
   "cell_type": "code",
   "execution_count": 10,
   "metadata": {},
   "outputs": [
    {
     "ename": "NameError",
     "evalue": "name 'retorno' is not defined",
     "output_type": "error",
     "traceback": [
      "\u001b[1;31m---------------------------------------------------------------------------\u001b[0m",
      "\u001b[1;31mNameError\u001b[0m                                 Traceback (most recent call last)",
      "\u001b[1;32mc:\\Users\\marinaferreira\\Downloads\\3-Clustering_RFE.ipynb Célula 40\u001b[0m line \u001b[0;36m1\n\u001b[1;32m----> <a href='vscode-notebook-cell:/c%3A/Users/marinaferreira/Downloads/3-Clustering_RFE.ipynb#X54sZmlsZQ%3D%3D?line=0'>1</a>\u001b[0m \u001b[39mfor\u001b[39;00m i \u001b[39min\u001b[39;00m retorno:\n\u001b[0;32m      <a href='vscode-notebook-cell:/c%3A/Users/marinaferreira/Downloads/3-Clustering_RFE.ipynb#X54sZmlsZQ%3D%3D?line=1'>2</a>\u001b[0m     \u001b[39mprint\u001b[39m(i)\n",
      "\u001b[1;31mNameError\u001b[0m: name 'retorno' is not defined"
     ]
    }
   ],
   "source": [
    "for i in retorno:\n",
    "    print(i)"
   ]
  },
  {
   "cell_type": "code",
   "execution_count": 499,
   "metadata": {},
   "outputs": [],
   "source": [
    "# def format_numbers(x, d=2):\n",
    "#     x = str(round(x,d)).replace('.', ',')\n",
    "#     b = x.split(',')[0]\n",
    "#     a = x.split(',')[1]\n",
    "#     if len(b) <= 3:\n",
    "#          return x\n",
    "#     elif 3 < len(b) <= 6:\n",
    "#         return b[-10:-3]+'.'+b[-3:]+','+a\n",
    "#     elif 6 < len(b) <= 9:\n",
    "#         return b[-9:-6]+'.'+b[-6:-3]+'.'+b[-3:]+','+a\n",
    "#     else:\n",
    "#         return b[-12:-9]+'.'+b[-9:-6]+'.'+b[-6:-3]+'.'+b[-3:]+','+a\n",
    "\n",
    "# cols_cliente = ['VALOR_MEDIO_PARCELAS_ATRASO','VALOR_MEDIO_PARCELA_FIN']\n",
    "# for col in cols_cliente:\n",
    "#     print('###', col, '###')\n",
    "#     for i in range(5):\n",
    "#         print('Cluster ', i)\n",
    "#         x_ = data_rfe[col].where((data_rfe.cluster == i) & (data_rfe.INADIMPLENTE == 'SIM')).mean()\n",
    "#         x = data_rfe[col].where((data_rfe.cluster == i) & (data_rfe.INADIMPLENTE == 'NAO')).mean()\n",
    "#         x__ = data_rfe[col].where((data_rfe.cluster == i)).mean()\n",
    "#         print(f'média grupo inadimplente: {format_numbers(x_)} | média grupo adimplente: {format_numbers(x)} | média grupo geral: {format_numbers(x__)}')\n",
    "#         x_ = data_rfe[col].where((data_rfe.cluster == i) & (data_rfe.INADIMPLENTE == 'SIM')).median()\n",
    "#         x = data_rfe[col].where((data_rfe.cluster == i) & (data_rfe.INADIMPLENTE == 'NAO')).median()\n",
    "#         x__ = data_rfe[col].where((data_rfe.cluster == i)).median()\n",
    "\n",
    "#         print(f'mediana grupo inadimplente: {format_numbers(x_)} | mediana grupo adimplente: {format_numbers(x)}| mediana grupo geral: {format_numbers(x__)}')\n",
    "\n",
    "#         print('---------------------------')\n",
    "#         print('====================')"
   ]
  },
  {
   "cell_type": "code",
   "execution_count": null,
   "metadata": {},
   "outputs": [],
   "source": []
  },
  {
   "cell_type": "code",
   "execution_count": 24,
   "metadata": {},
   "outputs": [
    {
     "name": "stdout",
     "output_type": "stream",
     "text": [
      "### AUMENTO_LIMITE ###\n",
      "Cluster  0\n",
      "| AUMENTO_LIMITE | 1.3(1.0) |\n",
      "---------------------------\n",
      "Cluster  1\n",
      "| AUMENTO_LIMITE | 0.4(0.0) |\n",
      "---------------------------\n",
      "Cluster  2\n",
      "| AUMENTO_LIMITE | 1.7(2.0) |\n",
      "---------------------------\n",
      "Cluster  3\n",
      "| AUMENTO_LIMITE | 2.0(2.0) |\n",
      "---------------------------\n",
      "Cluster  4\n",
      "| AUMENTO_LIMITE | 0.8(1.0) |\n",
      "---------------------------\n",
      "====================\n",
      "### REDUCAO_LIMITE ###\n",
      "Cluster  0\n",
      "| REDUCAO_LIMITE | 0.6(0.0) |\n",
      "---------------------------\n",
      "Cluster  1\n",
      "| REDUCAO_LIMITE | 0.6(0.0) |\n",
      "---------------------------\n",
      "Cluster  2\n",
      "| REDUCAO_LIMITE | 0.1(0.0) |\n",
      "---------------------------\n",
      "Cluster  3\n",
      "| REDUCAO_LIMITE | 0.2(0.0) |\n",
      "---------------------------\n",
      "Cluster  4\n",
      "| REDUCAO_LIMITE | 0.6(0.0) |\n",
      "---------------------------\n",
      "====================\n",
      "### SCORE_ATUAL ###\n",
      "Cluster  0\n",
      "| SCORE_ATUAL | 38.5(33.2) |\n",
      "---------------------------\n",
      "Cluster  1\n",
      "| SCORE_ATUAL | 19.7(14.8) |\n",
      "---------------------------\n",
      "Cluster  2\n",
      "| SCORE_ATUAL | 75.2(82.5) |\n",
      "---------------------------\n",
      "Cluster  3\n",
      "| SCORE_ATUAL | 57.7(62.6) |\n",
      "---------------------------\n",
      "Cluster  4\n",
      "| SCORE_ATUAL | 25.6(20.6) |\n",
      "---------------------------\n",
      "====================\n",
      "### AUMENTO_SCORE ###\n",
      "Cluster  0\n",
      "| AUMENTO_SCORE | 23.3(24.0) |\n",
      "---------------------------\n",
      "Cluster  1\n",
      "| AUMENTO_SCORE | 9.0(8.0) |\n",
      "---------------------------\n",
      "Cluster  2\n",
      "| AUMENTO_SCORE | 34.0(35.0) |\n",
      "---------------------------\n",
      "Cluster  3\n",
      "| AUMENTO_SCORE | 29.2(31.0) |\n",
      "---------------------------\n",
      "Cluster  4\n",
      "| AUMENTO_SCORE | 16.9(17.0) |\n",
      "---------------------------\n",
      "====================\n",
      "### REDUCAO_SCORE ###\n",
      "Cluster  0\n",
      "| REDUCAO_SCORE | 20.4(21.0) |\n",
      "---------------------------\n",
      "Cluster  1\n",
      "| REDUCAO_SCORE | 10.0(9.0) |\n",
      "---------------------------\n",
      "Cluster  2\n",
      "| REDUCAO_SCORE | 28.2(29.0) |\n",
      "---------------------------\n",
      "Cluster  3\n",
      "| REDUCAO_SCORE | 24.1(26.0) |\n",
      "---------------------------\n",
      "Cluster  4\n",
      "| REDUCAO_SCORE | 16.3(17.0) |\n",
      "---------------------------\n",
      "====================\n",
      "### TOTAL_CONTRATOS_FIN ###\n",
      "Cluster  0\n",
      "| TOTAL_CONTRATOS_FIN | 1.9(1.0) |\n",
      "---------------------------\n",
      "Cluster  1\n",
      "| TOTAL_CONTRATOS_FIN | 1.4(1.0) |\n",
      "---------------------------\n",
      "Cluster  2\n",
      "| TOTAL_CONTRATOS_FIN | 1.9(1.0) |\n",
      "---------------------------\n",
      "Cluster  3\n",
      "| TOTAL_CONTRATOS_FIN | 2.0(2.0) |\n",
      "---------------------------\n",
      "Cluster  4\n",
      "| TOTAL_CONTRATOS_FIN | 1.7(1.0) |\n",
      "---------------------------\n",
      "====================\n",
      "### SOMA_VALOR_CONTRATO_FIN ###\n",
      "Cluster  0\n",
      "| SOMA_VALOR_CONTRATO_FIN | 4759.7(3569.5) |\n",
      "---------------------------\n",
      "Cluster  1\n",
      "| SOMA_VALOR_CONTRATO_FIN | 1215.8(833.9) |\n",
      "---------------------------\n",
      "Cluster  2\n",
      "| SOMA_VALOR_CONTRATO_FIN | 7556.4(5362.8) |\n",
      "---------------------------\n",
      "Cluster  3\n",
      "| SOMA_VALOR_CONTRATO_FIN | 6267.4(4590.0) |\n",
      "---------------------------\n",
      "Cluster  4\n",
      "| SOMA_VALOR_CONTRATO_FIN | 2968.9(2468.4) |\n",
      "---------------------------\n",
      "====================\n",
      "### SOMA_VALOR_NOTA_FIN ###\n",
      "Cluster  0\n",
      "| SOMA_VALOR_NOTA_FIN | 3301.1(2500.0) |\n",
      "---------------------------\n",
      "Cluster  1\n",
      "| SOMA_VALOR_NOTA_FIN | 760.9(500.0) |\n",
      "---------------------------\n",
      "Cluster  2\n",
      "| SOMA_VALOR_NOTA_FIN | 5728.6(4000.0) |\n",
      "---------------------------\n",
      "Cluster  3\n",
      "| SOMA_VALOR_NOTA_FIN | 4500.0(3000.0) |\n",
      "---------------------------\n",
      "Cluster  4\n",
      "| SOMA_VALOR_NOTA_FIN | 1934.1(1600.0) |\n",
      "---------------------------\n",
      "====================\n",
      "### SOMA_VALOR_CONTRATO_FIN ###\n",
      "Cluster  0\n",
      "| SOMA_VALOR_CONTRATO_FIN | 4759.7(3569.5) |\n",
      "---------------------------\n",
      "Cluster  1\n",
      "| SOMA_VALOR_CONTRATO_FIN | 1215.8(833.9) |\n",
      "---------------------------\n",
      "Cluster  2\n",
      "| SOMA_VALOR_CONTRATO_FIN | 7556.4(5362.8) |\n",
      "---------------------------\n",
      "Cluster  3\n",
      "| SOMA_VALOR_CONTRATO_FIN | 6267.4(4590.0) |\n",
      "---------------------------\n",
      "Cluster  4\n",
      "| SOMA_VALOR_CONTRATO_FIN | 2968.9(2468.4) |\n",
      "---------------------------\n",
      "====================\n",
      "### VALOR_MEDIO_CONTRATO_FIN ###\n",
      "Cluster  0\n",
      "| VALOR_MEDIO_CONTRATO_FIN | 2647.4(2590.4) |\n",
      "---------------------------\n",
      "Cluster  1\n",
      "| VALOR_MEDIO_CONTRATO_FIN | 868.5(718.5) |\n",
      "---------------------------\n",
      "Cluster  2\n",
      "| VALOR_MEDIO_CONTRATO_FIN | 4385.0(3720.1) |\n",
      "---------------------------\n",
      "Cluster  3\n",
      "| VALOR_MEDIO_CONTRATO_FIN | 3381.1(3072.5) |\n",
      "---------------------------\n",
      "Cluster  4\n",
      "| VALOR_MEDIO_CONTRATO_FIN | 1866.9(1533.0) |\n",
      "---------------------------\n",
      "====================\n",
      "### TEMPO_MEDIO_CONTRATO_FIN ###\n",
      "Cluster  0\n",
      "| TEMPO_MEDIO_CONTRATO_FIN | 258.4(247.0) |\n",
      "---------------------------\n",
      "Cluster  1\n",
      "| TEMPO_MEDIO_CONTRATO_FIN | 248.0(238.0) |\n",
      "---------------------------\n",
      "Cluster  2\n",
      "| TEMPO_MEDIO_CONTRATO_FIN | 234.8(227.0) |\n",
      "---------------------------\n",
      "Cluster  3\n",
      "| TEMPO_MEDIO_CONTRATO_FIN | 242.6(236.0) |\n",
      "---------------------------\n",
      "Cluster  4\n",
      "| TEMPO_MEDIO_CONTRATO_FIN | 259.2(247.0) |\n",
      "---------------------------\n",
      "====================\n",
      "### TEMPO_MIN_CONTRATO_FIN ###\n",
      "Cluster  0\n",
      "| TEMPO_MIN_CONTRATO_FIN | 188.4(151.0) |\n",
      "---------------------------\n",
      "Cluster  1\n",
      "| TEMPO_MIN_CONTRATO_FIN | 218.8(192.0) |\n",
      "---------------------------\n",
      "Cluster  2\n",
      "| TEMPO_MIN_CONTRATO_FIN | 161.0(130.0) |\n",
      "---------------------------\n",
      "Cluster  3\n",
      "| TEMPO_MIN_CONTRATO_FIN | 162.8(133.0) |\n",
      "---------------------------\n",
      "Cluster  4\n",
      "| TEMPO_MIN_CONTRATO_FIN | 206.4(175.0) |\n",
      "---------------------------\n",
      "====================\n",
      "### TEMPO_MAX_CONTRATO_FIN ###\n",
      "Cluster  0\n",
      "| TEMPO_MAX_CONTRATO_FIN | 329.1(325.0) |\n",
      "---------------------------\n",
      "Cluster  1\n",
      "| TEMPO_MAX_CONTRATO_FIN | 276.6(275.0) |\n",
      "---------------------------\n",
      "Cluster  2\n",
      "| TEMPO_MAX_CONTRATO_FIN | 309.9(296.0) |\n",
      "---------------------------\n",
      "Cluster  3\n",
      "| TEMPO_MAX_CONTRATO_FIN | 323.6(312.0) |\n",
      "---------------------------\n",
      "Cluster  4\n",
      "| TEMPO_MAX_CONTRATO_FIN | 311.6(312.0) |\n",
      "---------------------------\n",
      "====================\n",
      "### VALOR_MEDIO_ENTRADA_FIN ###\n",
      "Cluster  0\n",
      "| VALOR_MEDIO_ENTRADA_FIN | 4.1(0.0) |\n",
      "---------------------------\n",
      "Cluster  1\n",
      "| VALOR_MEDIO_ENTRADA_FIN | 1.5(0.0) |\n",
      "---------------------------\n",
      "Cluster  2\n",
      "| VALOR_MEDIO_ENTRADA_FIN | 0.5(0.0) |\n",
      "---------------------------\n",
      "Cluster  3\n",
      "| VALOR_MEDIO_ENTRADA_FIN | 1.7(0.0) |\n",
      "---------------------------\n",
      "Cluster  4\n",
      "| VALOR_MEDIO_ENTRADA_FIN | 3.8(0.0) |\n",
      "---------------------------\n",
      "====================\n",
      "### VALOR_MEDIO_PARCELA_FIN ###\n",
      "Cluster  0\n",
      "| VALOR_MEDIO_PARCELA_FIN | 338.3(303.1) |\n",
      "---------------------------\n",
      "Cluster  1\n",
      "| VALOR_MEDIO_PARCELA_FIN | 136.5(125.2) |\n",
      "---------------------------\n",
      "Cluster  2\n",
      "| VALOR_MEDIO_PARCELA_FIN | 493.8(410.5) |\n",
      "---------------------------\n",
      "Cluster  3\n",
      "| VALOR_MEDIO_PARCELA_FIN | 408.1(357.1) |\n",
      "---------------------------\n",
      "Cluster  4\n",
      "| VALOR_MEDIO_PARCELA_FIN | 246.7(225.2) |\n",
      "---------------------------\n",
      "====================\n",
      "### VALOR_MEDIO_QTEPARC_FIN ###\n",
      "Cluster  0\n",
      "| VALOR_MEDIO_QTEPARC_FIN | 8.2(8.0) |\n",
      "---------------------------\n",
      "Cluster  1\n",
      "| VALOR_MEDIO_QTEPARC_FIN | 6.7(7.0) |\n",
      "---------------------------\n",
      "Cluster  2\n",
      "| VALOR_MEDIO_QTEPARC_FIN | 8.9(9.5) |\n",
      "---------------------------\n",
      "Cluster  3\n",
      "| VALOR_MEDIO_QTEPARC_FIN | 8.5(8.5) |\n",
      "---------------------------\n",
      "Cluster  4\n",
      "| VALOR_MEDIO_QTEPARC_FIN | 7.6(7.0) |\n",
      "---------------------------\n",
      "====================\n",
      "### VALOR_MAX_QTEPARC_FIN ###\n",
      "Cluster  0\n",
      "| VALOR_MAX_QTEPARC_FIN | 8.9(10.0) |\n",
      "---------------------------\n",
      "Cluster  1\n",
      "| VALOR_MAX_QTEPARC_FIN | 7.0(7.0) |\n",
      "---------------------------\n",
      "Cluster  2\n",
      "| VALOR_MAX_QTEPARC_FIN | 9.7(10.0) |\n",
      "---------------------------\n",
      "Cluster  3\n",
      "| VALOR_MAX_QTEPARC_FIN | 9.3(10.0) |\n",
      "---------------------------\n",
      "Cluster  4\n",
      "| VALOR_MAX_QTEPARC_FIN | 8.2(7.0) |\n",
      "---------------------------\n",
      "====================\n",
      "### VALOR_MEDIO_JUROS_FIN ###\n",
      "Cluster  0\n",
      "| VALOR_MEDIO_JUROS_FIN | 849.5(729.3) |\n",
      "---------------------------\n",
      "Cluster  1\n",
      "| VALOR_MEDIO_JUROS_FIN | 330.9(280.3) |\n",
      "---------------------------\n",
      "Cluster  2\n",
      "| VALOR_MEDIO_JUROS_FIN | 1110.7(892.6) |\n",
      "---------------------------\n",
      "Cluster  3\n",
      "| VALOR_MEDIO_JUROS_FIN | 1007.6(827.1) |\n",
      "---------------------------\n",
      "Cluster  4\n",
      "| VALOR_MEDIO_JUROS_FIN | 661.5(525.5) |\n",
      "---------------------------\n",
      "====================\n",
      "### MAX_DIAS_ANTECIPOU ###\n",
      "Cluster  0\n",
      "| MAX_DIAS_ANTECIPOU | 103.8(65.0) |\n",
      "---------------------------\n",
      "Cluster  1\n",
      "| MAX_DIAS_ANTECIPOU | 65.8(27.0) |\n",
      "---------------------------\n",
      "Cluster  2\n",
      "| MAX_DIAS_ANTECIPOU | 127.4(90.0) |\n",
      "---------------------------\n",
      "Cluster  3\n",
      "| MAX_DIAS_ANTECIPOU | 117.2(82.0) |\n",
      "---------------------------\n",
      "Cluster  4\n",
      "| MAX_DIAS_ANTECIPOU | 85.0(46.0) |\n",
      "---------------------------\n",
      "====================\n",
      "### MAX_DIAS_ANTECIPOU ###\n",
      "Cluster  0\n",
      "| MAX_DIAS_ANTECIPOU | 103.8(65.0) |\n",
      "---------------------------\n",
      "Cluster  1\n",
      "| MAX_DIAS_ANTECIPOU | 65.8(27.0) |\n",
      "---------------------------\n",
      "Cluster  2\n",
      "| MAX_DIAS_ANTECIPOU | 127.4(90.0) |\n",
      "---------------------------\n",
      "Cluster  3\n",
      "| MAX_DIAS_ANTECIPOU | 117.2(82.0) |\n",
      "---------------------------\n",
      "Cluster  4\n",
      "| MAX_DIAS_ANTECIPOU | 85.0(46.0) |\n",
      "---------------------------\n",
      "====================\n",
      "### MAX_DIAS_EM_ATRASO ###\n",
      "Cluster  0\n",
      "| MAX_DIAS_EM_ATRASO | 59.9(11.0) |\n",
      "---------------------------\n",
      "Cluster  1\n",
      "| MAX_DIAS_EM_ATRASO | 139.0(67.0) |\n",
      "---------------------------\n",
      "Cluster  2\n",
      "| MAX_DIAS_EM_ATRASO | 9.8(1.0) |\n",
      "---------------------------\n",
      "Cluster  3\n",
      "| MAX_DIAS_EM_ATRASO | 20.2(4.0) |\n",
      "---------------------------\n",
      "Cluster  4\n",
      "| MAX_DIAS_EM_ATRASO | 98.1(26.0) |\n",
      "---------------------------\n",
      "====================\n",
      "### MEDIA_DIAS_EM_ATRASO ###\n",
      "Cluster  0\n",
      "| MEDIA_DIAS_EM_ATRASO | 49.4(8.0) |\n",
      "---------------------------\n",
      "Cluster  1\n",
      "| MEDIA_DIAS_EM_ATRASO | 126.9(53.0) |\n",
      "---------------------------\n",
      "Cluster  2\n",
      "| MEDIA_DIAS_EM_ATRASO | 7.5(1.0) |\n",
      "---------------------------\n",
      "Cluster  3\n",
      "| MEDIA_DIAS_EM_ATRASO | 15.6(3.0) |\n",
      "---------------------------\n",
      "Cluster  4\n",
      "| MEDIA_DIAS_EM_ATRASO | 84.5(19.0) |\n",
      "---------------------------\n",
      "====================\n",
      "### PERC_PAG_EM_DIA ###\n",
      "Cluster  0\n",
      "| PERC_PAG_EM_DIA | 0.6(0.7) |\n",
      "---------------------------\n",
      "Cluster  1\n",
      "| PERC_PAG_EM_DIA | 0.5(0.5) |\n",
      "---------------------------\n",
      "Cluster  2\n",
      "| PERC_PAG_EM_DIA | 0.8(0.9) |\n",
      "---------------------------\n",
      "Cluster  3\n",
      "| PERC_PAG_EM_DIA | 0.7(0.8) |\n",
      "---------------------------\n",
      "Cluster  4\n",
      "| PERC_PAG_EM_DIA | 0.6(0.6) |\n",
      "---------------------------\n",
      "====================\n",
      "### PERC_CONTRATO_INADIMPLENTE ###\n",
      "Cluster  0\n",
      "| PERC_CONTRATO_INADIMPLENTE | 0.1(0.0) |\n",
      "---------------------------\n",
      "Cluster  1\n",
      "| PERC_CONTRATO_INADIMPLENTE | 0.4(0.0) |\n",
      "---------------------------\n",
      "Cluster  2\n",
      "| PERC_CONTRATO_INADIMPLENTE | 0.0(0.0) |\n",
      "---------------------------\n",
      "Cluster  3\n",
      "| PERC_CONTRATO_INADIMPLENTE | 0.0(0.0) |\n",
      "---------------------------\n",
      "Cluster  4\n",
      "| PERC_CONTRATO_INADIMPLENTE | 0.2(0.0) |\n",
      "---------------------------\n",
      "====================\n",
      "### PERC_SALDO_DEVEDOR ###\n",
      "Cluster  0\n",
      "| PERC_SALDO_DEVEDOR | 0.1(0.0) |\n",
      "---------------------------\n",
      "Cluster  1\n",
      "| PERC_SALDO_DEVEDOR | 0.4(0.1) |\n",
      "---------------------------\n",
      "Cluster  2\n",
      "| PERC_SALDO_DEVEDOR | 0.1(0.0) |\n",
      "---------------------------\n",
      "Cluster  3\n",
      "| PERC_SALDO_DEVEDOR | 0.1(0.0) |\n",
      "---------------------------\n",
      "Cluster  4\n",
      "| PERC_SALDO_DEVEDOR | 0.2(0.0) |\n",
      "---------------------------\n",
      "====================\n",
      "### N_PARC_EM_ATRASO ###\n",
      "Cluster  0\n",
      "| N_PARC_EM_ATRASO | 0.9(0.0) |\n",
      "---------------------------\n",
      "Cluster  1\n",
      "| N_PARC_EM_ATRASO | 2.2(0.0) |\n",
      "---------------------------\n",
      "Cluster  2\n",
      "| N_PARC_EM_ATRASO | 0.1(0.0) |\n",
      "---------------------------\n",
      "Cluster  3\n",
      "| N_PARC_EM_ATRASO | 0.2(0.0) |\n",
      "---------------------------\n",
      "Cluster  4\n",
      "| N_PARC_EM_ATRASO | 1.7(0.0) |\n",
      "---------------------------\n",
      "====================\n",
      "### VALOR_MEDIO_PARCELAS_ATRASO ###\n",
      "Cluster  0\n",
      "| VALOR_MEDIO_PARCELAS_ATRASO | 31.0(0.0) |\n",
      "---------------------------\n",
      "Cluster  1\n",
      "| VALOR_MEDIO_PARCELAS_ATRASO | 43.7(0.0) |\n",
      "---------------------------\n",
      "Cluster  2\n",
      "| VALOR_MEDIO_PARCELAS_ATRASO | 2.7(0.0) |\n",
      "---------------------------\n",
      "Cluster  3\n",
      "| VALOR_MEDIO_PARCELAS_ATRASO | 7.2(0.0) |\n",
      "---------------------------\n",
      "Cluster  4\n",
      "| VALOR_MEDIO_PARCELAS_ATRASO | 47.6(0.0) |\n",
      "---------------------------\n",
      "====================\n",
      "### SALDO_DEVEDOR ###\n",
      "Cluster  0\n",
      "| SALDO_DEVEDOR | 594.6(0.0) |\n",
      "---------------------------\n",
      "Cluster  1\n",
      "| SALDO_DEVEDOR | 333.3(99.3) |\n",
      "---------------------------\n",
      "Cluster  2\n",
      "| SALDO_DEVEDOR | 531.6(0.0) |\n",
      "---------------------------\n",
      "Cluster  3\n",
      "| SALDO_DEVEDOR | 460.1(0.0) |\n",
      "---------------------------\n",
      "Cluster  4\n",
      "| SALDO_DEVEDOR | 599.7(0.0) |\n",
      "---------------------------\n",
      "====================\n",
      "### N_PARC_INADIMPLENTE ###\n",
      "Cluster  0\n",
      "| N_PARC_INADIMPLENTE | 0.7(0.0) |\n",
      "---------------------------\n",
      "Cluster  1\n",
      "| N_PARC_INADIMPLENTE | 1.7(0.0) |\n",
      "---------------------------\n",
      "Cluster  2\n",
      "| N_PARC_INADIMPLENTE | 0.0(0.0) |\n",
      "---------------------------\n",
      "Cluster  3\n",
      "| N_PARC_INADIMPLENTE | 0.1(0.0) |\n",
      "---------------------------\n",
      "Cluster  4\n",
      "| N_PARC_INADIMPLENTE | 1.3(0.0) |\n",
      "---------------------------\n",
      "====================\n",
      "### VALOR_INADIMPLENTE ###\n",
      "Cluster  0\n",
      "| VALOR_INADIMPLENTE | 233.8(0.0) |\n",
      "---------------------------\n",
      "Cluster  1\n",
      "| VALOR_INADIMPLENTE | 230.6(0.0) |\n",
      "---------------------------\n",
      "Cluster  2\n",
      "| VALOR_INADIMPLENTE | 13.0(0.0) |\n",
      "---------------------------\n",
      "Cluster  3\n",
      "| VALOR_INADIMPLENTE | 42.6(0.0) |\n",
      "---------------------------\n",
      "Cluster  4\n",
      "| VALOR_INADIMPLENTE | 338.9(0.0) |\n",
      "---------------------------\n",
      "====================\n"
     ]
    }
   ],
   "source": [
    "cols_cliente = [\n",
    "       'AUMENTO_LIMITE', 'REDUCAO_LIMITE', 'SCORE_ATUAL', 'AUMENTO_SCORE', 'REDUCAO_SCORE',\n",
    "       'TOTAL_CONTRATOS_FIN', 'SOMA_VALOR_CONTRATO_FIN', 'SOMA_VALOR_NOTA_FIN','SOMA_VALOR_CONTRATO_FIN','VALOR_MEDIO_CONTRATO_FIN', 'TEMPO_MEDIO_CONTRATO_FIN',\n",
    "       'TEMPO_MIN_CONTRATO_FIN','TEMPO_MAX_CONTRATO_FIN','VALOR_MEDIO_ENTRADA_FIN','VALOR_MEDIO_PARCELA_FIN','VALOR_MEDIO_QTEPARC_FIN','VALOR_MAX_QTEPARC_FIN','VALOR_MEDIO_JUROS_FIN',\n",
    "       'MAX_DIAS_ANTECIPOU','MAX_DIAS_ANTECIPOU',\n",
    "'MAX_DIAS_EM_ATRASO',\n",
    "'MEDIA_DIAS_EM_ATRASO',\n",
    "'PERC_PAG_EM_DIA',\n",
    "'PERC_CONTRATO_INADIMPLENTE', \n",
    "'PERC_SALDO_DEVEDOR',\n",
    "'N_PARC_EM_ATRASO',\n",
    "'VALOR_MEDIO_PARCELAS_ATRASO', \n",
    "'SALDO_DEVEDOR', \n",
    "'N_PARC_INADIMPLENTE',\n",
    "'VALOR_INADIMPLENTE'\n",
    "       ]\n",
    "for col in cols_cliente:\n",
    "    print('###', col, '###')\n",
    "    for i in range(5):\n",
    "        print('Cluster ', i)    \n",
    "        \n",
    "        print(f'| '+ col + ' | ' + f'{data_rfe[col].where(data_rfe.cluster == i).mean():.1f}' + '(' +  f'{data_rfe[col].where(data_rfe.cluster == i).median():.1f}' + ')' + ' |')\n",
    "        print('---------------------------')\n",
    "    print('====================')\n"
   ]
  },
  {
   "attachments": {},
   "cell_type": "markdown",
   "metadata": {},
   "source": [
    "> **CLUSTER 0**"
   ]
  },
  {
   "cell_type": "code",
   "execution_count": 12,
   "metadata": {},
   "outputs": [],
   "source": [
    "# The most of data are concentrated in AMAZONAS, RONDONIA, RORAIMA and ACRE\n",
    "\n",
    "data_rfe['ESTADO'].replace([x for x in data_rfe.ESTADO.unique() if x not in ['AMAZONAS', 'ACRE', 'RONDONIA', 'RORAIMA']], 'OUTROS', inplace=True)"
   ]
  },
  {
   "cell_type": "code",
   "execution_count": 14,
   "metadata": {},
   "outputs": [
    {
     "data": {
      "text/plain": [
       "(248186, 106)"
      ]
     },
     "execution_count": 14,
     "metadata": {},
     "output_type": "execute_result"
    }
   ],
   "source": [
    "data_rfe.shape"
   ]
  },
  {
   "cell_type": "code",
   "execution_count": 11,
   "metadata": {},
   "outputs": [
    {
     "ename": "NameError",
     "evalue": "name 'plt' is not defined",
     "output_type": "error",
     "traceback": [
      "\u001b[1;31m---------------------------------------------------------------------------\u001b[0m",
      "\u001b[1;31mNameError\u001b[0m                                 Traceback (most recent call last)",
      "\u001b[1;32mc:\\Users\\marinaferreira\\Downloads\\3-Clustering_RFE.ipynb Célula 47\u001b[0m line \u001b[0;36m1\n\u001b[1;32m----> <a href='vscode-notebook-cell:/c%3A/Users/marinaferreira/Downloads/3-Clustering_RFE.ipynb#X65sZmlsZQ%3D%3D?line=0'>1</a>\u001b[0m fig, axs \u001b[39m=\u001b[39m plt\u001b[39m.\u001b[39msubplots(\u001b[39m2\u001b[39m,\u001b[39m3\u001b[39m, figsize\u001b[39m=\u001b[39m[\u001b[39m28\u001b[39m,\u001b[39m12\u001b[39m])\n\u001b[0;32m      <a href='vscode-notebook-cell:/c%3A/Users/marinaferreira/Downloads/3-Clustering_RFE.ipynb#X65sZmlsZQ%3D%3D?line=1'>2</a>\u001b[0m data_rfe\u001b[39m.\u001b[39mSEXO\u001b[39m.\u001b[39mvalue_counts()\u001b[39m.\u001b[39mplot\u001b[39m.\u001b[39mpie(ylabel\u001b[39m=\u001b[39m\u001b[39m'\u001b[39m\u001b[39m \u001b[39m\u001b[39m'\u001b[39m, ax\u001b[39m=\u001b[39maxs[\u001b[39m0\u001b[39m,\u001b[39m0\u001b[39m], fontsize\u001b[39m=\u001b[39m\u001b[39m14\u001b[39m, autopct\u001b[39m=\u001b[39m\u001b[39m'\u001b[39m\u001b[39m%.0f\u001b[39;00m\u001b[39m%%\u001b[39;00m\u001b[39m'\u001b[39m)\n\u001b[0;32m      <a href='vscode-notebook-cell:/c%3A/Users/marinaferreira/Downloads/3-Clustering_RFE.ipynb#X65sZmlsZQ%3D%3D?line=2'>3</a>\u001b[0m data_rfe\u001b[39m.\u001b[39mESTADO\u001b[39m.\u001b[39mvalue_counts()\u001b[39m.\u001b[39mplot\u001b[39m.\u001b[39mpie(ylabel\u001b[39m=\u001b[39m\u001b[39m'\u001b[39m\u001b[39m \u001b[39m\u001b[39m'\u001b[39m, ax\u001b[39m=\u001b[39maxs[\u001b[39m0\u001b[39m,\u001b[39m1\u001b[39m], fontsize\u001b[39m=\u001b[39m\u001b[39m14\u001b[39m, autopct\u001b[39m=\u001b[39m\u001b[39m'\u001b[39m\u001b[39m%.0f\u001b[39;00m\u001b[39m%%\u001b[39;00m\u001b[39m'\u001b[39m)\n",
      "\u001b[1;31mNameError\u001b[0m: name 'plt' is not defined"
     ]
    }
   ],
   "source": [
    "fig, axs = plt.subplots(2,3, figsize=[28,12])\n",
    "data_rfe.SEXO.value_counts().plot.pie(ylabel=' ', ax=axs[0,0], fontsize=14, autopct='%.0f%%')\n",
    "data_rfe.ESTADO.value_counts().plot.pie(ylabel=' ', ax=axs[0,1], fontsize=14, autopct='%.0f%%')\n",
    "data_rfe.ESTADO_CIVIL.value_counts().plot.pie(ylabel=' ', ax=axs[0,2], fontsize=14, autopct='%.0f%%')\n",
    "data_rfe['CREDITO'].value_counts().plot.pie(ylabel=' ', ax=axs[1,0], fontsize=14, autopct='%.0f%%')\n",
    "data_rfe.RECEBIDOS.value_counts().plot.pie(ylabel=' ', ax=axs[1,1], fontsize=14, autopct='%.0f%%')\n",
    "data_rfe.INADIMPLENTE.value_counts().plot.pie(ylabel=' ', ax=axs[1,2], fontsize=14, autopct='%.0f%%')"
   ]
  },
  {
   "cell_type": "code",
   "execution_count": 12,
   "metadata": {},
   "outputs": [
    {
     "ename": "NameError",
     "evalue": "name 'plt' is not defined",
     "output_type": "error",
     "traceback": [
      "\u001b[1;31m---------------------------------------------------------------------------\u001b[0m",
      "\u001b[1;31mNameError\u001b[0m                                 Traceback (most recent call last)",
      "\u001b[1;32mc:\\Users\\marinaferreira\\Downloads\\3-Clustering_RFE.ipynb Célula 48\u001b[0m line \u001b[0;36m1\n\u001b[1;32m----> <a href='vscode-notebook-cell:/c%3A/Users/marinaferreira/Downloads/3-Clustering_RFE.ipynb#Y100sZmlsZQ%3D%3D?line=0'>1</a>\u001b[0m fig, axs \u001b[39m=\u001b[39m plt\u001b[39m.\u001b[39msubplots(\u001b[39m2\u001b[39m,\u001b[39m3\u001b[39m, figsize\u001b[39m=\u001b[39m[\u001b[39m28\u001b[39m,\u001b[39m12\u001b[39m])\n\u001b[0;32m      <a href='vscode-notebook-cell:/c%3A/Users/marinaferreira/Downloads/3-Clustering_RFE.ipynb#Y100sZmlsZQ%3D%3D?line=1'>2</a>\u001b[0m data_rfe\u001b[39m.\u001b[39mSEXO\u001b[39m.\u001b[39mwhere(data_rfe\u001b[39m.\u001b[39mcluster \u001b[39m==\u001b[39m \u001b[39m0\u001b[39m)\u001b[39m.\u001b[39mvalue_counts()\u001b[39m.\u001b[39mplot\u001b[39m.\u001b[39mpie(ylabel\u001b[39m=\u001b[39m\u001b[39m'\u001b[39m\u001b[39m \u001b[39m\u001b[39m'\u001b[39m, ax\u001b[39m=\u001b[39maxs[\u001b[39m0\u001b[39m,\u001b[39m0\u001b[39m], fontsize\u001b[39m=\u001b[39m\u001b[39m14\u001b[39m, autopct\u001b[39m=\u001b[39m\u001b[39m'\u001b[39m\u001b[39m%.0f\u001b[39;00m\u001b[39m%%\u001b[39;00m\u001b[39m'\u001b[39m)\n\u001b[0;32m      <a href='vscode-notebook-cell:/c%3A/Users/marinaferreira/Downloads/3-Clustering_RFE.ipynb#Y100sZmlsZQ%3D%3D?line=2'>3</a>\u001b[0m data_rfe\u001b[39m.\u001b[39mESTADO\u001b[39m.\u001b[39mwhere(data_rfe\u001b[39m.\u001b[39mcluster \u001b[39m==\u001b[39m \u001b[39m0\u001b[39m)\u001b[39m.\u001b[39mvalue_counts()\u001b[39m.\u001b[39mplot\u001b[39m.\u001b[39mpie(ylabel\u001b[39m=\u001b[39m\u001b[39m'\u001b[39m\u001b[39m \u001b[39m\u001b[39m'\u001b[39m, ax\u001b[39m=\u001b[39maxs[\u001b[39m0\u001b[39m,\u001b[39m1\u001b[39m], fontsize\u001b[39m=\u001b[39m\u001b[39m14\u001b[39m, autopct\u001b[39m=\u001b[39m\u001b[39m'\u001b[39m\u001b[39m%.0f\u001b[39;00m\u001b[39m%%\u001b[39;00m\u001b[39m'\u001b[39m)\n",
      "\u001b[1;31mNameError\u001b[0m: name 'plt' is not defined"
     ]
    }
   ],
   "source": [
    "fig, axs = plt.subplots(2,3, figsize=[28,12])\n",
    "data_rfe.SEXO.where(data_rfe.cluster == 0).value_counts().plot.pie(ylabel=' ', ax=axs[0,0], fontsize=14, autopct='%.0f%%')\n",
    "data_rfe.ESTADO.where(data_rfe.cluster == 0).value_counts().plot.pie(ylabel=' ', ax=axs[0,1], fontsize=14, autopct='%.0f%%')\n",
    "data_rfe.ESTADO_CIVIL.where(data_rfe.cluster == 0).value_counts().plot.pie(ylabel=' ', ax=axs[0,2], fontsize=14, autopct='%.0f%%')\n",
    "data_rfe['CREDITO'].where(data_rfe.cluster == 0).value_counts().plot.pie(ylabel=' ', ax=axs[1,0], fontsize=14, autopct='%.0f%%')\n",
    "data_rfe.RECEBIDOS.where(data_rfe.cluster == 0).value_counts().plot.pie(ylabel=' ', ax=axs[1,1], fontsize=14, autopct='%.0f%%')\n",
    "data_rfe.INADIMPLENTE.where(data_rfe.cluster == 0).value_counts().plot.pie(ylabel=' ', ax=axs[1,2], fontsize=14, autopct='%.0f%%')"
   ]
  },
  {
   "attachments": {},
   "cell_type": "markdown",
   "metadata": {},
   "source": [
    "> **CLUSTER 1**"
   ]
  },
  {
   "cell_type": "code",
   "execution_count": 13,
   "metadata": {},
   "outputs": [
    {
     "ename": "NameError",
     "evalue": "name 'plt' is not defined",
     "output_type": "error",
     "traceback": [
      "\u001b[1;31m---------------------------------------------------------------------------\u001b[0m",
      "\u001b[1;31mNameError\u001b[0m                                 Traceback (most recent call last)",
      "\u001b[1;32mc:\\Users\\marinaferreira\\Downloads\\3-Clustering_RFE.ipynb Célula 50\u001b[0m line \u001b[0;36m1\n\u001b[1;32m----> <a href='vscode-notebook-cell:/c%3A/Users/marinaferreira/Downloads/3-Clustering_RFE.ipynb#Y102sZmlsZQ%3D%3D?line=0'>1</a>\u001b[0m fig, axs \u001b[39m=\u001b[39m plt\u001b[39m.\u001b[39msubplots(\u001b[39m2\u001b[39m,\u001b[39m3\u001b[39m, figsize\u001b[39m=\u001b[39m[\u001b[39m28\u001b[39m,\u001b[39m12\u001b[39m])\n\u001b[0;32m      <a href='vscode-notebook-cell:/c%3A/Users/marinaferreira/Downloads/3-Clustering_RFE.ipynb#Y102sZmlsZQ%3D%3D?line=1'>2</a>\u001b[0m data_rfe\u001b[39m.\u001b[39mSEXO\u001b[39m.\u001b[39mwhere(data_rfe\u001b[39m.\u001b[39mcluster \u001b[39m==\u001b[39m \u001b[39m1\u001b[39m)\u001b[39m.\u001b[39mvalue_counts()\u001b[39m.\u001b[39mplot\u001b[39m.\u001b[39mpie(ylabel\u001b[39m=\u001b[39m\u001b[39m'\u001b[39m\u001b[39m \u001b[39m\u001b[39m'\u001b[39m, ax\u001b[39m=\u001b[39maxs[\u001b[39m0\u001b[39m,\u001b[39m0\u001b[39m], fontsize\u001b[39m=\u001b[39m\u001b[39m14\u001b[39m, autopct\u001b[39m=\u001b[39m\u001b[39m'\u001b[39m\u001b[39m%.0f\u001b[39;00m\u001b[39m%%\u001b[39;00m\u001b[39m'\u001b[39m)\n\u001b[0;32m      <a href='vscode-notebook-cell:/c%3A/Users/marinaferreira/Downloads/3-Clustering_RFE.ipynb#Y102sZmlsZQ%3D%3D?line=2'>3</a>\u001b[0m data_rfe\u001b[39m.\u001b[39mESTADO\u001b[39m.\u001b[39mwhere(data_rfe\u001b[39m.\u001b[39mcluster \u001b[39m==\u001b[39m \u001b[39m1\u001b[39m)\u001b[39m.\u001b[39mvalue_counts()\u001b[39m.\u001b[39mplot\u001b[39m.\u001b[39mpie(ylabel\u001b[39m=\u001b[39m\u001b[39m'\u001b[39m\u001b[39m \u001b[39m\u001b[39m'\u001b[39m, ax\u001b[39m=\u001b[39maxs[\u001b[39m0\u001b[39m,\u001b[39m1\u001b[39m], fontsize\u001b[39m=\u001b[39m\u001b[39m14\u001b[39m, autopct\u001b[39m=\u001b[39m\u001b[39m'\u001b[39m\u001b[39m%.0f\u001b[39;00m\u001b[39m%%\u001b[39;00m\u001b[39m'\u001b[39m)\n",
      "\u001b[1;31mNameError\u001b[0m: name 'plt' is not defined"
     ]
    }
   ],
   "source": [
    "fig, axs = plt.subplots(2,3, figsize=[28,12])\n",
    "data_rfe.SEXO.where(data_rfe.cluster == 1).value_counts().plot.pie(ylabel=' ', ax=axs[0,0], fontsize=14, autopct='%.0f%%')\n",
    "data_rfe.ESTADO.where(data_rfe.cluster == 1).value_counts().plot.pie(ylabel=' ', ax=axs[0,1], fontsize=14, autopct='%.0f%%')\n",
    "data_rfe.ESTADO_CIVIL.where(data_rfe.cluster == 1).value_counts().plot.pie(ylabel=' ', ax=axs[0,2], fontsize=14, autopct='%.0f%%')\n",
    "data_rfe['CREDITO'].where(data_rfe.cluster == 1).value_counts().plot.pie(ylabel=' ', ax=axs[1,0], fontsize=14, autopct='%.0f%%')\n",
    "data_rfe.RECEBIDOS.where(data_rfe.cluster == 1).value_counts().plot.pie(ylabel=' ', ax=axs[1,1], fontsize=14, autopct='%.0f%%')\n",
    "data_rfe.INADIMPLENTE.where(data_rfe.cluster == 1).value_counts().plot.pie(ylabel=' ', ax=axs[1,2], fontsize=14, autopct='%.0f%%')"
   ]
  },
  {
   "attachments": {},
   "cell_type": "markdown",
   "metadata": {},
   "source": [
    "> **CLUSTER 2**"
   ]
  },
  {
   "cell_type": "code",
   "execution_count": 14,
   "metadata": {},
   "outputs": [
    {
     "ename": "NameError",
     "evalue": "name 'plt' is not defined",
     "output_type": "error",
     "traceback": [
      "\u001b[1;31m---------------------------------------------------------------------------\u001b[0m",
      "\u001b[1;31mNameError\u001b[0m                                 Traceback (most recent call last)",
      "\u001b[1;32mc:\\Users\\marinaferreira\\Downloads\\3-Clustering_RFE.ipynb Célula 52\u001b[0m line \u001b[0;36m1\n\u001b[1;32m----> <a href='vscode-notebook-cell:/c%3A/Users/marinaferreira/Downloads/3-Clustering_RFE.ipynb#Y104sZmlsZQ%3D%3D?line=0'>1</a>\u001b[0m fig, axs \u001b[39m=\u001b[39m plt\u001b[39m.\u001b[39msubplots(\u001b[39m2\u001b[39m,\u001b[39m3\u001b[39m, figsize\u001b[39m=\u001b[39m[\u001b[39m28\u001b[39m,\u001b[39m12\u001b[39m])\n\u001b[0;32m      <a href='vscode-notebook-cell:/c%3A/Users/marinaferreira/Downloads/3-Clustering_RFE.ipynb#Y104sZmlsZQ%3D%3D?line=1'>2</a>\u001b[0m data_rfe\u001b[39m.\u001b[39mSEXO\u001b[39m.\u001b[39mwhere(data_rfe\u001b[39m.\u001b[39mcluster \u001b[39m==\u001b[39m \u001b[39m2\u001b[39m)\u001b[39m.\u001b[39mvalue_counts()\u001b[39m.\u001b[39mplot\u001b[39m.\u001b[39mpie(ylabel\u001b[39m=\u001b[39m\u001b[39m'\u001b[39m\u001b[39m \u001b[39m\u001b[39m'\u001b[39m, ax\u001b[39m=\u001b[39maxs[\u001b[39m0\u001b[39m,\u001b[39m0\u001b[39m], fontsize\u001b[39m=\u001b[39m\u001b[39m14\u001b[39m, autopct\u001b[39m=\u001b[39m\u001b[39m'\u001b[39m\u001b[39m%.0f\u001b[39;00m\u001b[39m%%\u001b[39;00m\u001b[39m'\u001b[39m)\n\u001b[0;32m      <a href='vscode-notebook-cell:/c%3A/Users/marinaferreira/Downloads/3-Clustering_RFE.ipynb#Y104sZmlsZQ%3D%3D?line=2'>3</a>\u001b[0m data_rfe\u001b[39m.\u001b[39mESTADO\u001b[39m.\u001b[39mwhere(data_rfe\u001b[39m.\u001b[39mcluster \u001b[39m==\u001b[39m \u001b[39m2\u001b[39m)\u001b[39m.\u001b[39mvalue_counts()\u001b[39m.\u001b[39mplot\u001b[39m.\u001b[39mpie(ylabel\u001b[39m=\u001b[39m\u001b[39m'\u001b[39m\u001b[39m \u001b[39m\u001b[39m'\u001b[39m, ax\u001b[39m=\u001b[39maxs[\u001b[39m0\u001b[39m,\u001b[39m1\u001b[39m], fontsize\u001b[39m=\u001b[39m\u001b[39m14\u001b[39m, autopct\u001b[39m=\u001b[39m\u001b[39m'\u001b[39m\u001b[39m%.0f\u001b[39;00m\u001b[39m%%\u001b[39;00m\u001b[39m'\u001b[39m)\n",
      "\u001b[1;31mNameError\u001b[0m: name 'plt' is not defined"
     ]
    }
   ],
   "source": [
    "fig, axs = plt.subplots(2,3, figsize=[28,12])\n",
    "data_rfe.SEXO.where(data_rfe.cluster == 2).value_counts().plot.pie(ylabel=' ', ax=axs[0,0], fontsize=14, autopct='%.0f%%')\n",
    "data_rfe.ESTADO.where(data_rfe.cluster == 2).value_counts().plot.pie(ylabel=' ', ax=axs[0,1], fontsize=14, autopct='%.0f%%')\n",
    "data_rfe.ESTADO_CIVIL.where(data_rfe.cluster == 2).value_counts().plot.pie(ylabel=' ', ax=axs[0,2], fontsize=14, autopct='%.0f%%')\n",
    "data_rfe['CREDITO'].where(data_rfe.cluster == 2).value_counts().plot.pie(ylabel=' ', ax=axs[1,0], fontsize=14, autopct='%.0f%%')\n",
    "data_rfe.RECEBIDOS.where(data_rfe.cluster == 2).value_counts().plot.pie(ylabel=' ', ax=axs[1,1], fontsize=14, autopct='%.0f%%')\n",
    "data_rfe.INADIMPLENTE.where(data_rfe.cluster == 2).value_counts().plot.pie(ylabel=' ', ax=axs[1,2], fontsize=14, autopct='%.0f%%')"
   ]
  },
  {
   "attachments": {},
   "cell_type": "markdown",
   "metadata": {},
   "source": [
    "> **CLUSTER 3**"
   ]
  },
  {
   "cell_type": "code",
   "execution_count": 15,
   "metadata": {},
   "outputs": [
    {
     "ename": "NameError",
     "evalue": "name 'plt' is not defined",
     "output_type": "error",
     "traceback": [
      "\u001b[1;31m---------------------------------------------------------------------------\u001b[0m",
      "\u001b[1;31mNameError\u001b[0m                                 Traceback (most recent call last)",
      "\u001b[1;32mc:\\Users\\marinaferreira\\Downloads\\3-Clustering_RFE.ipynb Célula 54\u001b[0m line \u001b[0;36m1\n\u001b[1;32m----> <a href='vscode-notebook-cell:/c%3A/Users/marinaferreira/Downloads/3-Clustering_RFE.ipynb#Y106sZmlsZQ%3D%3D?line=0'>1</a>\u001b[0m fig, axs \u001b[39m=\u001b[39m plt\u001b[39m.\u001b[39msubplots(\u001b[39m2\u001b[39m,\u001b[39m3\u001b[39m, figsize\u001b[39m=\u001b[39m[\u001b[39m28\u001b[39m,\u001b[39m12\u001b[39m])\n\u001b[0;32m      <a href='vscode-notebook-cell:/c%3A/Users/marinaferreira/Downloads/3-Clustering_RFE.ipynb#Y106sZmlsZQ%3D%3D?line=1'>2</a>\u001b[0m data_rfe\u001b[39m.\u001b[39mSEXO\u001b[39m.\u001b[39mwhere(data_rfe\u001b[39m.\u001b[39mcluster \u001b[39m==\u001b[39m \u001b[39m3\u001b[39m)\u001b[39m.\u001b[39mvalue_counts()\u001b[39m.\u001b[39mplot\u001b[39m.\u001b[39mpie(ylabel\u001b[39m=\u001b[39m\u001b[39m'\u001b[39m\u001b[39m \u001b[39m\u001b[39m'\u001b[39m, ax\u001b[39m=\u001b[39maxs[\u001b[39m0\u001b[39m,\u001b[39m0\u001b[39m], fontsize\u001b[39m=\u001b[39m\u001b[39m14\u001b[39m, autopct\u001b[39m=\u001b[39m\u001b[39m'\u001b[39m\u001b[39m%.0f\u001b[39;00m\u001b[39m%%\u001b[39;00m\u001b[39m'\u001b[39m)\n\u001b[0;32m      <a href='vscode-notebook-cell:/c%3A/Users/marinaferreira/Downloads/3-Clustering_RFE.ipynb#Y106sZmlsZQ%3D%3D?line=2'>3</a>\u001b[0m data_rfe\u001b[39m.\u001b[39mESTADO\u001b[39m.\u001b[39mwhere(data_rfe\u001b[39m.\u001b[39mcluster \u001b[39m==\u001b[39m \u001b[39m3\u001b[39m)\u001b[39m.\u001b[39mvalue_counts()\u001b[39m.\u001b[39mplot\u001b[39m.\u001b[39mpie(ylabel\u001b[39m=\u001b[39m\u001b[39m'\u001b[39m\u001b[39m \u001b[39m\u001b[39m'\u001b[39m, ax\u001b[39m=\u001b[39maxs[\u001b[39m0\u001b[39m,\u001b[39m1\u001b[39m], fontsize\u001b[39m=\u001b[39m\u001b[39m14\u001b[39m, autopct\u001b[39m=\u001b[39m\u001b[39m'\u001b[39m\u001b[39m%.0f\u001b[39;00m\u001b[39m%%\u001b[39;00m\u001b[39m'\u001b[39m)\n",
      "\u001b[1;31mNameError\u001b[0m: name 'plt' is not defined"
     ]
    }
   ],
   "source": [
    "fig, axs = plt.subplots(2,3, figsize=[28,12])\n",
    "data_rfe.SEXO.where(data_rfe.cluster == 3).value_counts().plot.pie(ylabel=' ', ax=axs[0,0], fontsize=14, autopct='%.0f%%')\n",
    "data_rfe.ESTADO.where(data_rfe.cluster == 3).value_counts().plot.pie(ylabel=' ', ax=axs[0,1], fontsize=14, autopct='%.0f%%')\n",
    "data_rfe.ESTADO_CIVIL.where(data_rfe.cluster == 3).value_counts().plot.pie(ylabel=' ', ax=axs[0,2], fontsize=14, autopct='%.0f%%')\n",
    "data_rfe['CREDITO'].where(data_rfe.cluster == 3).value_counts().plot.pie(ylabel=' ', ax=axs[1,0], fontsize=14, autopct='%.0f%%')\n",
    "data_rfe.RECEBIDOS.where(data_rfe.cluster == 3).value_counts().plot.pie(ylabel=' ', ax=axs[1,1], fontsize=14, autopct='%.0f%%')\n",
    "data_rfe.INADIMPLENTE.where(data_rfe.cluster == 3).value_counts().plot.pie(ylabel=' ', ax=axs[1,2], fontsize=14, autopct='%.0f%%')"
   ]
  },
  {
   "cell_type": "code",
   "execution_count": 16,
   "metadata": {},
   "outputs": [
    {
     "ename": "NameError",
     "evalue": "name 'plt' is not defined",
     "output_type": "error",
     "traceback": [
      "\u001b[1;31m---------------------------------------------------------------------------\u001b[0m",
      "\u001b[1;31mNameError\u001b[0m                                 Traceback (most recent call last)",
      "\u001b[1;32mc:\\Users\\marinaferreira\\Downloads\\3-Clustering_RFE.ipynb Célula 55\u001b[0m line \u001b[0;36m1\n\u001b[1;32m----> <a href='vscode-notebook-cell:/c%3A/Users/marinaferreira/Downloads/3-Clustering_RFE.ipynb#Y110sZmlsZQ%3D%3D?line=0'>1</a>\u001b[0m fig, axs \u001b[39m=\u001b[39m plt\u001b[39m.\u001b[39msubplots(\u001b[39m2\u001b[39m,\u001b[39m3\u001b[39m, figsize\u001b[39m=\u001b[39m[\u001b[39m28\u001b[39m,\u001b[39m12\u001b[39m])\n\u001b[0;32m      <a href='vscode-notebook-cell:/c%3A/Users/marinaferreira/Downloads/3-Clustering_RFE.ipynb#Y110sZmlsZQ%3D%3D?line=1'>2</a>\u001b[0m data_rfe\u001b[39m.\u001b[39mSEXO\u001b[39m.\u001b[39mwhere(data_rfe\u001b[39m.\u001b[39mcluster \u001b[39m==\u001b[39m \u001b[39m4\u001b[39m)\u001b[39m.\u001b[39mvalue_counts()\u001b[39m.\u001b[39mplot\u001b[39m.\u001b[39mpie(ylabel\u001b[39m=\u001b[39m\u001b[39m'\u001b[39m\u001b[39m \u001b[39m\u001b[39m'\u001b[39m, ax\u001b[39m=\u001b[39maxs[\u001b[39m0\u001b[39m,\u001b[39m0\u001b[39m], fontsize\u001b[39m=\u001b[39m\u001b[39m14\u001b[39m, autopct\u001b[39m=\u001b[39m\u001b[39m'\u001b[39m\u001b[39m%.0f\u001b[39;00m\u001b[39m%%\u001b[39;00m\u001b[39m'\u001b[39m)\n\u001b[0;32m      <a href='vscode-notebook-cell:/c%3A/Users/marinaferreira/Downloads/3-Clustering_RFE.ipynb#Y110sZmlsZQ%3D%3D?line=2'>3</a>\u001b[0m data_rfe\u001b[39m.\u001b[39mESTADO\u001b[39m.\u001b[39mwhere(data_rfe\u001b[39m.\u001b[39mcluster \u001b[39m==\u001b[39m \u001b[39m4\u001b[39m)\u001b[39m.\u001b[39mvalue_counts()\u001b[39m.\u001b[39mplot\u001b[39m.\u001b[39mpie(ylabel\u001b[39m=\u001b[39m\u001b[39m'\u001b[39m\u001b[39m \u001b[39m\u001b[39m'\u001b[39m, ax\u001b[39m=\u001b[39maxs[\u001b[39m0\u001b[39m,\u001b[39m1\u001b[39m], fontsize\u001b[39m=\u001b[39m\u001b[39m14\u001b[39m, autopct\u001b[39m=\u001b[39m\u001b[39m'\u001b[39m\u001b[39m%.0f\u001b[39;00m\u001b[39m%%\u001b[39;00m\u001b[39m'\u001b[39m)\n",
      "\u001b[1;31mNameError\u001b[0m: name 'plt' is not defined"
     ]
    }
   ],
   "source": [
    "fig, axs = plt.subplots(2,3, figsize=[28,12])\n",
    "data_rfe.SEXO.where(data_rfe.cluster == 4).value_counts().plot.pie(ylabel=' ', ax=axs[0,0], fontsize=14, autopct='%.0f%%')\n",
    "data_rfe.ESTADO.where(data_rfe.cluster == 4).value_counts().plot.pie(ylabel=' ', ax=axs[0,1], fontsize=14, autopct='%.0f%%')\n",
    "data_rfe.ESTADO_CIVIL.where(data_rfe.cluster ==4).value_counts().plot.pie(ylabel=' ', ax=axs[0,2], fontsize=14, autopct='%.0f%%')\n",
    "data_rfe['CREDITO'].where(data_rfe.cluster == 4).value_counts().plot.pie(ylabel=' ', ax=axs[1,0], fontsize=14, autopct='%.0f%%')\n",
    "data_rfe.RECEBIDOS.where(data_rfe.cluster == 4).value_counts().plot.pie(ylabel=' ', ax=axs[1,1], fontsize=14, autopct='%.0f%%')\n",
    "data_rfe.INADIMPLENTE.where(data_rfe.cluster == 4).value_counts().plot.pie(ylabel=' ', ax=axs[1,2], fontsize=14, autopct='%.0f%%')"
   ]
  },
  {
   "cell_type": "code",
   "execution_count": 17,
   "metadata": {},
   "outputs": [
    {
     "name": "stdout",
     "output_type": "stream",
     "text": [
      "Cluster  0\n"
     ]
    },
    {
     "ename": "NameError",
     "evalue": "name 'data_rfe' is not defined",
     "output_type": "error",
     "traceback": [
      "\u001b[1;31m---------------------------------------------------------------------------\u001b[0m",
      "\u001b[1;31mNameError\u001b[0m                                 Traceback (most recent call last)",
      "\u001b[1;32mc:\\Users\\marinaferreira\\Downloads\\3-Clustering_RFE.ipynb Célula 56\u001b[0m line \u001b[0;36m5\n\u001b[0;32m      <a href='vscode-notebook-cell:/c%3A/Users/marinaferreira/Downloads/3-Clustering_RFE.ipynb#Y111sZmlsZQ%3D%3D?line=2'>3</a>\u001b[0m \u001b[39mfor\u001b[39;00m i \u001b[39min\u001b[39;00m \u001b[39mrange\u001b[39m(\u001b[39m5\u001b[39m):\n\u001b[0;32m      <a href='vscode-notebook-cell:/c%3A/Users/marinaferreira/Downloads/3-Clustering_RFE.ipynb#Y111sZmlsZQ%3D%3D?line=3'>4</a>\u001b[0m     \u001b[39mprint\u001b[39m(\u001b[39m'\u001b[39m\u001b[39mCluster \u001b[39m\u001b[39m'\u001b[39m, i)    \n\u001b[1;32m----> <a href='vscode-notebook-cell:/c%3A/Users/marinaferreira/Downloads/3-Clustering_RFE.ipynb#Y111sZmlsZQ%3D%3D?line=4'>5</a>\u001b[0m     \u001b[39mprint\u001b[39m(\u001b[39mf\u001b[39m\u001b[39m'\u001b[39m\u001b[39mmédia: \u001b[39m\u001b[39m{\u001b[39;00mdata_rfe\u001b[39m.\u001b[39mAGE\u001b[39m.\u001b[39mwhere(data_rfe\u001b[39m.\u001b[39mcluster\u001b[39m \u001b[39m\u001b[39m==\u001b[39m\u001b[39m \u001b[39mi)\u001b[39m.\u001b[39mmean()\u001b[39m:\u001b[39;00m\u001b[39m.1f\u001b[39m\u001b[39m}\u001b[39;00m\u001b[39m'\u001b[39m)\n\u001b[0;32m      <a href='vscode-notebook-cell:/c%3A/Users/marinaferreira/Downloads/3-Clustering_RFE.ipynb#Y111sZmlsZQ%3D%3D?line=5'>6</a>\u001b[0m     \u001b[39mprint\u001b[39m(\u001b[39mf\u001b[39m\u001b[39m'\u001b[39m\u001b[39mmediana: \u001b[39m\u001b[39m{\u001b[39;00mdata_rfe\u001b[39m.\u001b[39mAGE\u001b[39m.\u001b[39mwhere(data_rfe\u001b[39m.\u001b[39mcluster\u001b[39m \u001b[39m\u001b[39m==\u001b[39m\u001b[39m \u001b[39mi)\u001b[39m.\u001b[39mmedian()\u001b[39m:\u001b[39;00m\u001b[39m.1f\u001b[39m\u001b[39m}\u001b[39;00m\u001b[39m'\u001b[39m)\n",
      "\u001b[1;31mNameError\u001b[0m: name 'data_rfe' is not defined"
     ]
    }
   ],
   "source": [
    "# Idade\n",
    "\n",
    "for i in range(5):\n",
    "    print('Cluster ', i)    \n",
    "    print(f'média: {data_rfe.AGE.where(data_rfe.cluster == i).mean():.1f}')\n",
    "    print(f'mediana: {data_rfe.AGE.where(data_rfe.cluster == i).median():.1f}')"
   ]
  },
  {
   "cell_type": "code",
   "execution_count": 18,
   "metadata": {},
   "outputs": [
    {
     "ename": "NameError",
     "evalue": "name 'sns' is not defined",
     "output_type": "error",
     "traceback": [
      "\u001b[1;31m---------------------------------------------------------------------------\u001b[0m",
      "\u001b[1;31mNameError\u001b[0m                                 Traceback (most recent call last)",
      "\u001b[1;32mc:\\Users\\marinaferreira\\Downloads\\3-Clustering_RFE.ipynb Célula 57\u001b[0m line \u001b[0;36m1\n\u001b[1;32m----> <a href='vscode-notebook-cell:/c%3A/Users/marinaferreira/Downloads/3-Clustering_RFE.ipynb#Y112sZmlsZQ%3D%3D?line=0'>1</a>\u001b[0m ax \u001b[39m=\u001b[39m sns\u001b[39m.\u001b[39mboxplot(x\u001b[39m=\u001b[39mdata_rfe\u001b[39m.\u001b[39mcluster, y\u001b[39m=\u001b[39mdata_rfe\u001b[39m.\u001b[39mAGE, showmeans\u001b[39m=\u001b[39m\u001b[39mTrue\u001b[39;00m, meanprops\u001b[39m=\u001b[39m{\u001b[39m\"\u001b[39m\u001b[39mmarker\u001b[39m\u001b[39m\"\u001b[39m: \u001b[39m\"\u001b[39m\u001b[39m+\u001b[39m\u001b[39m\"\u001b[39m, \u001b[39m\"\u001b[39m\u001b[39mmarkeredgecolor\u001b[39m\u001b[39m\"\u001b[39m: \u001b[39m\"\u001b[39m\u001b[39mblack\u001b[39m\u001b[39m\"\u001b[39m, \u001b[39m\"\u001b[39m\u001b[39mmarkersize\u001b[39m\u001b[39m\"\u001b[39m: \u001b[39m\"\u001b[39m\u001b[39m10\u001b[39m\u001b[39m\"\u001b[39m})\n\u001b[0;32m      <a href='vscode-notebook-cell:/c%3A/Users/marinaferreira/Downloads/3-Clustering_RFE.ipynb#Y112sZmlsZQ%3D%3D?line=1'>2</a>\u001b[0m add_median_labels(ax)\n\u001b[0;32m      <a href='vscode-notebook-cell:/c%3A/Users/marinaferreira/Downloads/3-Clustering_RFE.ipynb#Y112sZmlsZQ%3D%3D?line=2'>3</a>\u001b[0m plt\u001b[39m.\u001b[39mshow()\n",
      "\u001b[1;31mNameError\u001b[0m: name 'sns' is not defined"
     ]
    }
   ],
   "source": [
    "ax = sns.boxplot(x=data_rfe.cluster, y=data_rfe.AGE, showmeans=True, meanprops={\"marker\": \"+\", \"markeredgecolor\": \"black\", \"markersize\": \"10\"})\n",
    "add_median_labels(ax)\n",
    "plt.show()"
   ]
  },
  {
   "cell_type": "code",
   "execution_count": 10,
   "metadata": {},
   "outputs": [
    {
     "name": "stdout",
     "output_type": "stream",
     "text": [
      "Cluster  0\n",
      "média: 10.2\n",
      "mediana: 9.2\n",
      "Cluster  1\n",
      "média: 5.2\n",
      "mediana: 3.4\n",
      "Cluster  2\n",
      "média: 16.1\n",
      "mediana: 15.6\n",
      "Cluster  3\n",
      "média: 12.3\n",
      "mediana: 11.1\n",
      "Cluster  4\n",
      "média: 7.9\n",
      "mediana: 6.0\n"
     ]
    }
   ],
   "source": [
    "# Tempo de casa\n",
    "\n",
    "for i in range(5):\n",
    "    print('Cluster ', i)    \n",
    "    print(f'média: {data_rfe.TEMPO_DE_CASA.where(data_rfe.cluster == i).mean()/365:.1f}')\n",
    "    print(f'mediana: {data_rfe.TEMPO_DE_CASA.where(data_rfe.cluster == i).median()/365:.1f}')"
   ]
  },
  {
   "cell_type": "code",
   "execution_count": 19,
   "metadata": {},
   "outputs": [
    {
     "ename": "NameError",
     "evalue": "name 'sns' is not defined",
     "output_type": "error",
     "traceback": [
      "\u001b[1;31m---------------------------------------------------------------------------\u001b[0m",
      "\u001b[1;31mNameError\u001b[0m                                 Traceback (most recent call last)",
      "\u001b[1;32mc:\\Users\\marinaferreira\\Downloads\\3-Clustering_RFE.ipynb Célula 59\u001b[0m line \u001b[0;36m1\n\u001b[1;32m----> <a href='vscode-notebook-cell:/c%3A/Users/marinaferreira/Downloads/3-Clustering_RFE.ipynb#Y114sZmlsZQ%3D%3D?line=0'>1</a>\u001b[0m ax \u001b[39m=\u001b[39m sns\u001b[39m.\u001b[39mboxplot(x\u001b[39m=\u001b[39mdata_rfe\u001b[39m.\u001b[39mcluster, y\u001b[39m=\u001b[39mdata_rfe\u001b[39m.\u001b[39mDATABASE\u001b[39m/\u001b[39m\u001b[39m365\u001b[39m, showmeans\u001b[39m=\u001b[39m\u001b[39mTrue\u001b[39;00m, meanprops\u001b[39m=\u001b[39m{\u001b[39m\"\u001b[39m\u001b[39mmarker\u001b[39m\u001b[39m\"\u001b[39m: \u001b[39m\"\u001b[39m\u001b[39m+\u001b[39m\u001b[39m\"\u001b[39m, \u001b[39m\"\u001b[39m\u001b[39mmarkeredgecolor\u001b[39m\u001b[39m\"\u001b[39m: \u001b[39m\"\u001b[39m\u001b[39mblack\u001b[39m\u001b[39m\"\u001b[39m, \u001b[39m\"\u001b[39m\u001b[39mmarkersize\u001b[39m\u001b[39m\"\u001b[39m: \u001b[39m\"\u001b[39m\u001b[39m10\u001b[39m\u001b[39m\"\u001b[39m})\n\u001b[0;32m      <a href='vscode-notebook-cell:/c%3A/Users/marinaferreira/Downloads/3-Clustering_RFE.ipynb#Y114sZmlsZQ%3D%3D?line=1'>2</a>\u001b[0m add_median_labels(ax)\n\u001b[0;32m      <a href='vscode-notebook-cell:/c%3A/Users/marinaferreira/Downloads/3-Clustering_RFE.ipynb#Y114sZmlsZQ%3D%3D?line=2'>3</a>\u001b[0m plt\u001b[39m.\u001b[39mshow()\n",
      "\u001b[1;31mNameError\u001b[0m: name 'sns' is not defined"
     ]
    }
   ],
   "source": [
    "ax = sns.boxplot(x=data_rfe.cluster, y=data_rfe.DATABASE/365, showmeans=True, meanprops={\"marker\": \"+\", \"markeredgecolor\": \"black\", \"markersize\": \"10\"})\n",
    "add_median_labels(ax)\n",
    "plt.show()"
   ]
  },
  {
   "cell_type": "code",
   "execution_count": 20,
   "metadata": {},
   "outputs": [
    {
     "ename": "NameError",
     "evalue": "name 'XXXXXXXXXX' is not defined",
     "output_type": "error",
     "traceback": [
      "\u001b[1;31m---------------------------------------------------------------------------\u001b[0m",
      "\u001b[1;31mNameError\u001b[0m                                 Traceback (most recent call last)",
      "\u001b[1;32mc:\\Users\\marinaferreira\\Downloads\\3-Clustering_RFE.ipynb Célula 60\u001b[0m line \u001b[0;36m2\n\u001b[0;32m      <a href='vscode-notebook-cell:/c%3A/Users/marinaferreira/Downloads/3-Clustering_RFE.ipynb#Y115sZmlsZQ%3D%3D?line=0'>1</a>\u001b[0m cols_cliente \u001b[39m=\u001b[39m [\n\u001b[1;32m----> <a href='vscode-notebook-cell:/c%3A/Users/marinaferreira/Downloads/3-Clustering_RFE.ipynb#Y115sZmlsZQ%3D%3D?line=1'>2</a>\u001b[0m        XXXXXXXXXX \u001b[39m#infos do fornecedor\u001b[39;00m\n\u001b[0;32m      <a href='vscode-notebook-cell:/c%3A/Users/marinaferreira/Downloads/3-Clustering_RFE.ipynb#Y115sZmlsZQ%3D%3D?line=2'>3</a>\u001b[0m        ]\n\u001b[0;32m      <a href='vscode-notebook-cell:/c%3A/Users/marinaferreira/Downloads/3-Clustering_RFE.ipynb#Y115sZmlsZQ%3D%3D?line=3'>4</a>\u001b[0m \u001b[39mfor\u001b[39;00m col \u001b[39min\u001b[39;00m cols_cliente:\n\u001b[0;32m      <a href='vscode-notebook-cell:/c%3A/Users/marinaferreira/Downloads/3-Clustering_RFE.ipynb#Y115sZmlsZQ%3D%3D?line=4'>5</a>\u001b[0m     \u001b[39mprint\u001b[39m(\u001b[39m'\u001b[39m\u001b[39m###\u001b[39m\u001b[39m'\u001b[39m, col, \u001b[39m'\u001b[39m\u001b[39m###\u001b[39m\u001b[39m'\u001b[39m)\n",
      "\u001b[1;31mNameError\u001b[0m: name 'XXXXXXXXXX' is not defined"
     ]
    }
   ],
   "source": [
    "cols_cliente = [\n",
    "       XXXXXXXXXX #infos do fornecedor\n",
    "       ]\n",
    "for col in cols_cliente:\n",
    "    print('###', col, '###')\n",
    "    for i in range(5):\n",
    "        print('Cluster ', i)    \n",
    "        print(f'média: {data_rfe[col].where(data_rfe.cluster == i).mean():.1f}')\n",
    "        print(f'mediana: {data_rfe[col].where(data_rfe.cluster == i).median():.1f}')\n",
    "        print('---------------------------')\n",
    "    print('====================')"
   ]
  },
  {
   "cell_type": "code",
   "execution_count": 21,
   "metadata": {},
   "outputs": [
    {
     "ename": "NameError",
     "evalue": "name 'xxxxxxxxxxxxx' is not defined",
     "output_type": "error",
     "traceback": [
      "\u001b[1;31m---------------------------------------------------------------------------\u001b[0m",
      "\u001b[1;31mNameError\u001b[0m                                 Traceback (most recent call last)",
      "\u001b[1;32mc:\\Users\\marinaferreira\\Downloads\\3-Clustering_RFE.ipynb Célula 61\u001b[0m line \u001b[0;36m1\n\u001b[1;32m----> <a href='vscode-notebook-cell:/c%3A/Users/marinaferreira/Downloads/3-Clustering_RFE.ipynb#Y120sZmlsZQ%3D%3D?line=0'>1</a>\u001b[0m cols_cliente \u001b[39m=\u001b[39m [xxxxxxxxxxxxx\n\u001b[0;32m      <a href='vscode-notebook-cell:/c%3A/Users/marinaferreira/Downloads/3-Clustering_RFE.ipynb#Y120sZmlsZQ%3D%3D?line=1'>2</a>\u001b[0m ]\n\u001b[0;32m      <a href='vscode-notebook-cell:/c%3A/Users/marinaferreira/Downloads/3-Clustering_RFE.ipynb#Y120sZmlsZQ%3D%3D?line=3'>4</a>\u001b[0m \u001b[39mfor\u001b[39;00m col \u001b[39min\u001b[39;00m cols_cliente:\n\u001b[0;32m      <a href='vscode-notebook-cell:/c%3A/Users/marinaferreira/Downloads/3-Clustering_RFE.ipynb#Y120sZmlsZQ%3D%3D?line=4'>5</a>\u001b[0m     \u001b[39mprint\u001b[39m(\u001b[39m'\u001b[39m\u001b[39m###\u001b[39m\u001b[39m'\u001b[39m, col, \u001b[39m'\u001b[39m\u001b[39m###\u001b[39m\u001b[39m'\u001b[39m)\n",
      "\u001b[1;31mNameError\u001b[0m: name 'xxxxxxxxxxxxx' is not defined"
     ]
    }
   ],
   "source": [
    "\n",
    "cols_cliente = [xxxxxxxxxxxxx\n",
    "]\n",
    "\n",
    "for col in cols_cliente:\n",
    "    print('###', col, '###')\n",
    "    for i in range(5):\n",
    "        df = data_rfe[data_rfe['naopaga'] == 'SIM']\n",
    "        print('Cluster ', i)    \n",
    "        print(f'média: {df[col].where(df.cluster == i).mean():.2f}')\n",
    "        print(f'mediana: {df[col].where(df.cluster == i).median():.2f}')\n",
    "        print('---------------------------')\n",
    "    print('====================')"
   ]
  },
  {
   "attachments": {},
   "cell_type": "markdown",
   "metadata": {},
   "source": [
    "##### analises percentuais"
   ]
  },
  {
   "cell_type": "code",
   "execution_count": 22,
   "metadata": {},
   "outputs": [
    {
     "name": "stdout",
     "output_type": "stream",
     "text": [
      "Cluster  0\n"
     ]
    },
    {
     "ename": "NameError",
     "evalue": "name 'data_rfe' is not defined",
     "output_type": "error",
     "traceback": [
      "\u001b[1;31m---------------------------------------------------------------------------\u001b[0m",
      "\u001b[1;31mNameError\u001b[0m                                 Traceback (most recent call last)",
      "\u001b[1;32mc:\\Users\\marinaferreira\\Downloads\\3-Clustering_RFE.ipynb Célula 63\u001b[0m line \u001b[0;36m3\n\u001b[0;32m      <a href='vscode-notebook-cell:/c%3A/Users/marinaferreira/Downloads/3-Clustering_RFE.ipynb#Y122sZmlsZQ%3D%3D?line=0'>1</a>\u001b[0m \u001b[39mfor\u001b[39;00m i \u001b[39min\u001b[39;00m \u001b[39mrange\u001b[39m(\u001b[39m5\u001b[39m):\n\u001b[0;32m      <a href='vscode-notebook-cell:/c%3A/Users/marinaferreira/Downloads/3-Clustering_RFE.ipynb#Y122sZmlsZQ%3D%3D?line=1'>2</a>\u001b[0m     \u001b[39mprint\u001b[39m(\u001b[39m'\u001b[39m\u001b[39mCluster \u001b[39m\u001b[39m'\u001b[39m, i)    \n\u001b[1;32m----> <a href='vscode-notebook-cell:/c%3A/Users/marinaferreira/Downloads/3-Clustering_RFE.ipynb#Y122sZmlsZQ%3D%3D?line=2'>3</a>\u001b[0m     \u001b[39mprint\u001b[39m(\u001b[39mf\u001b[39m\u001b[39m'\u001b[39m\u001b[39mmédia: \u001b[39m\u001b[39m{\u001b[39;00mdata_rfe\u001b[39m.\u001b[39mDINHEIRO_NAOPAGA\u001b[39m.\u001b[39mwhere(data_rfe\u001b[39m.\u001b[39mcluster\u001b[39m \u001b[39m\u001b[39m==\u001b[39m\u001b[39m \u001b[39mi)\u001b[39m.\u001b[39mmean()\u001b[39m:\u001b[39;00m\u001b[39m.1f\u001b[39m\u001b[39m}\u001b[39;00m\u001b[39m'\u001b[39m)\n\u001b[0;32m      <a href='vscode-notebook-cell:/c%3A/Users/marinaferreira/Downloads/3-Clustering_RFE.ipynb#Y122sZmlsZQ%3D%3D?line=3'>4</a>\u001b[0m     \u001b[39mprint\u001b[39m(\u001b[39mf\u001b[39m\u001b[39m'\u001b[39m\u001b[39mmediana: \u001b[39m\u001b[39m{\u001b[39;00mdata_rfe\u001b[39m.\u001b[39mDINHEIRO_NAOPAGA\u001b[39m.\u001b[39mwhere(data_rfe\u001b[39m.\u001b[39mcluster\u001b[39m \u001b[39m\u001b[39m==\u001b[39m\u001b[39m \u001b[39mi)\u001b[39m.\u001b[39mmedian()\u001b[39m:\u001b[39;00m\u001b[39m.1f\u001b[39m\u001b[39m}\u001b[39;00m\u001b[39m'\u001b[39m)\n\u001b[0;32m      <a href='vscode-notebook-cell:/c%3A/Users/marinaferreira/Downloads/3-Clustering_RFE.ipynb#Y122sZmlsZQ%3D%3D?line=5'>6</a>\u001b[0m ax \u001b[39m=\u001b[39m sns\u001b[39m.\u001b[39mboxplot(x\u001b[39m=\u001b[39mdata_rfe\u001b[39m.\u001b[39mcluster, y\u001b[39m=\u001b[39mdata_rfe\u001b[39m.\u001b[39mDINHEIRO_NAOPAGA, showmeans\u001b[39m=\u001b[39m\u001b[39mTrue\u001b[39;00m, meanprops\u001b[39m=\u001b[39m{\u001b[39m\"\u001b[39m\u001b[39mmarker\u001b[39m\u001b[39m\"\u001b[39m: \u001b[39m\"\u001b[39m\u001b[39m+\u001b[39m\u001b[39m\"\u001b[39m, \u001b[39m\"\u001b[39m\u001b[39mmarkeredgecolor\u001b[39m\u001b[39m\"\u001b[39m: \u001b[39m\"\u001b[39m\u001b[39mblack\u001b[39m\u001b[39m\"\u001b[39m, \u001b[39m\"\u001b[39m\u001b[39mmarkersize\u001b[39m\u001b[39m\"\u001b[39m: \u001b[39m\"\u001b[39m\u001b[39m10\u001b[39m\u001b[39m\"\u001b[39m})\n",
      "\u001b[1;31mNameError\u001b[0m: name 'data_rfe' is not defined"
     ]
    }
   ],
   "source": [
    "for i in range(5):\n",
    "    print('Cluster ', i)    \n",
    "    print(f'média: {data_rfe.DINHEIRO_NAOPAGA.where(data_rfe.cluster == i).mean():.1f}')\n",
    "    print(f'mediana: {data_rfe.DINHEIRO_NAOPAGA.where(data_rfe.cluster == i).median():.1f}')\n",
    "    \n",
    "ax = sns.boxplot(x=data_rfe.cluster, y=data_rfe.DINHEIRO_NAOPAGA, showmeans=True, meanprops={\"marker\": \"+\", \"markeredgecolor\": \"black\", \"markersize\": \"10\"})\n",
    "add_median_labels(ax)\n",
    "plt.show()"
   ]
  },
  {
   "cell_type": "code",
   "execution_count": 23,
   "metadata": {},
   "outputs": [
    {
     "name": "stdout",
     "output_type": "stream",
     "text": [
      "Cluster  0\n"
     ]
    },
    {
     "ename": "NameError",
     "evalue": "name 'data_rfe' is not defined",
     "output_type": "error",
     "traceback": [
      "\u001b[1;31m---------------------------------------------------------------------------\u001b[0m",
      "\u001b[1;31mNameError\u001b[0m                                 Traceback (most recent call last)",
      "\u001b[1;32mc:\\Users\\marinaferreira\\Downloads\\3-Clustering_RFE.ipynb Célula 64\u001b[0m line \u001b[0;36m3\n\u001b[0;32m      <a href='vscode-notebook-cell:/c%3A/Users/marinaferreira/Downloads/3-Clustering_RFE.ipynb#Y123sZmlsZQ%3D%3D?line=0'>1</a>\u001b[0m \u001b[39mfor\u001b[39;00m i \u001b[39min\u001b[39;00m \u001b[39mrange\u001b[39m(\u001b[39m5\u001b[39m):\n\u001b[0;32m      <a href='vscode-notebook-cell:/c%3A/Users/marinaferreira/Downloads/3-Clustering_RFE.ipynb#Y123sZmlsZQ%3D%3D?line=1'>2</a>\u001b[0m     \u001b[39mprint\u001b[39m(\u001b[39m'\u001b[39m\u001b[39mCluster \u001b[39m\u001b[39m'\u001b[39m, i)    \n\u001b[1;32m----> <a href='vscode-notebook-cell:/c%3A/Users/marinaferreira/Downloads/3-Clustering_RFE.ipynb#Y123sZmlsZQ%3D%3D?line=2'>3</a>\u001b[0m     \u001b[39mprint\u001b[39m(\u001b[39mf\u001b[39m\u001b[39m'\u001b[39m\u001b[39mmédia: \u001b[39m\u001b[39m{\u001b[39;00mdata_rfe\u001b[39m.\u001b[39mPERCDEVE\u001b[39m.\u001b[39mwhere(data_rfe\u001b[39m.\u001b[39mcluster\u001b[39m \u001b[39m\u001b[39m==\u001b[39m\u001b[39m \u001b[39mi)\u001b[39m.\u001b[39mmean()\u001b[39m*\u001b[39m\u001b[39m100\u001b[39m\u001b[39m:\u001b[39;00m\u001b[39m.1f\u001b[39m\u001b[39m}\u001b[39;00m\u001b[39m'\u001b[39m)\n\u001b[0;32m      <a href='vscode-notebook-cell:/c%3A/Users/marinaferreira/Downloads/3-Clustering_RFE.ipynb#Y123sZmlsZQ%3D%3D?line=3'>4</a>\u001b[0m     \u001b[39mprint\u001b[39m(\u001b[39mf\u001b[39m\u001b[39m'\u001b[39m\u001b[39mmediana: \u001b[39m\u001b[39m{\u001b[39;00mdata_rfe\u001b[39m.\u001b[39mPERCDEVE\u001b[39m.\u001b[39mwhere(data_rfe\u001b[39m.\u001b[39mcluster\u001b[39m \u001b[39m\u001b[39m==\u001b[39m\u001b[39m \u001b[39mi)\u001b[39m.\u001b[39mmedian()\u001b[39m*\u001b[39m\u001b[39m100\u001b[39m\u001b[39m:\u001b[39;00m\u001b[39m.1f\u001b[39m\u001b[39m}\u001b[39;00m\u001b[39m'\u001b[39m)\n\u001b[0;32m      <a href='vscode-notebook-cell:/c%3A/Users/marinaferreira/Downloads/3-Clustering_RFE.ipynb#Y123sZmlsZQ%3D%3D?line=5'>6</a>\u001b[0m ax \u001b[39m=\u001b[39m sns\u001b[39m.\u001b[39mboxplot(x\u001b[39m=\u001b[39mdata_rfe\u001b[39m.\u001b[39mcluster, y\u001b[39m=\u001b[39mdata_rfe\u001b[39m.\u001b[39mPERCDEVE, showmeans\u001b[39m=\u001b[39m\u001b[39mTrue\u001b[39;00m, meanprops\u001b[39m=\u001b[39m{\u001b[39m\"\u001b[39m\u001b[39mmarker\u001b[39m\u001b[39m\"\u001b[39m: \u001b[39m\"\u001b[39m\u001b[39m+\u001b[39m\u001b[39m\"\u001b[39m, \u001b[39m\"\u001b[39m\u001b[39mmarkeredgecolor\u001b[39m\u001b[39m\"\u001b[39m: \u001b[39m\"\u001b[39m\u001b[39mblack\u001b[39m\u001b[39m\"\u001b[39m, \u001b[39m\"\u001b[39m\u001b[39mmarkersize\u001b[39m\u001b[39m\"\u001b[39m: \u001b[39m\"\u001b[39m\u001b[39m10\u001b[39m\u001b[39m\"\u001b[39m})\n",
      "\u001b[1;31mNameError\u001b[0m: name 'data_rfe' is not defined"
     ]
    }
   ],
   "source": [
    "for i in range(5):\n",
    "    print('Cluster ', i)    \n",
    "    print(f'média: {data_rfe.PERCDEVE.where(data_rfe.cluster == i).mean()*100:.1f}')\n",
    "    print(f'mediana: {data_rfe.PERCDEVE.where(data_rfe.cluster == i).median()*100:.1f}')\n",
    "    \n",
    "ax = sns.boxplot(x=data_rfe.cluster, y=data_rfe.PERCDEVE, showmeans=True, meanprops={\"marker\": \"+\", \"markeredgecolor\": \"black\", \"markersize\": \"10\"})\n",
    "add_median_labels(ax)\n",
    "plt.show()"
   ]
  },
  {
   "cell_type": "code",
   "execution_count": 24,
   "metadata": {},
   "outputs": [
    {
     "name": "stdout",
     "output_type": "stream",
     "text": [
      "Cluster  0\n"
     ]
    },
    {
     "ename": "NameError",
     "evalue": "name 'data_rfe' is not defined",
     "output_type": "error",
     "traceback": [
      "\u001b[1;31m---------------------------------------------------------------------------\u001b[0m",
      "\u001b[1;31mNameError\u001b[0m                                 Traceback (most recent call last)",
      "\u001b[1;32mc:\\Users\\marinaferreira\\Downloads\\3-Clustering_RFE.ipynb Célula 65\u001b[0m line \u001b[0;36m3\n\u001b[0;32m      <a href='vscode-notebook-cell:/c%3A/Users/marinaferreira/Downloads/3-Clustering_RFE.ipynb#Y124sZmlsZQ%3D%3D?line=0'>1</a>\u001b[0m \u001b[39mfor\u001b[39;00m i \u001b[39min\u001b[39;00m \u001b[39mrange\u001b[39m(\u001b[39m5\u001b[39m):\n\u001b[0;32m      <a href='vscode-notebook-cell:/c%3A/Users/marinaferreira/Downloads/3-Clustering_RFE.ipynb#Y124sZmlsZQ%3D%3D?line=1'>2</a>\u001b[0m     \u001b[39mprint\u001b[39m(\u001b[39m'\u001b[39m\u001b[39mCluster \u001b[39m\u001b[39m'\u001b[39m, i)    \n\u001b[1;32m----> <a href='vscode-notebook-cell:/c%3A/Users/marinaferreira/Downloads/3-Clustering_RFE.ipynb#Y124sZmlsZQ%3D%3D?line=2'>3</a>\u001b[0m     \u001b[39mprint\u001b[39m(\u001b[39mf\u001b[39m\u001b[39m'\u001b[39m\u001b[39mmédia: \u001b[39m\u001b[39m{\u001b[39;00mdata_rfe\u001b[39m.\u001b[39mOERC_PENDENDTE\u001b[39m.\u001b[39mwhere(data_rfe\u001b[39m.\u001b[39mcluster\u001b[39m \u001b[39m\u001b[39m==\u001b[39m\u001b[39m \u001b[39mi)\u001b[39m.\u001b[39mmean()\u001b[39m*\u001b[39m\u001b[39m100\u001b[39m\u001b[39m:\u001b[39;00m\u001b[39m.1f\u001b[39m\u001b[39m}\u001b[39;00m\u001b[39m'\u001b[39m)\n\u001b[0;32m      <a href='vscode-notebook-cell:/c%3A/Users/marinaferreira/Downloads/3-Clustering_RFE.ipynb#Y124sZmlsZQ%3D%3D?line=3'>4</a>\u001b[0m     \u001b[39mprint\u001b[39m(\u001b[39mf\u001b[39m\u001b[39m'\u001b[39m\u001b[39mmediana: \u001b[39m\u001b[39m{\u001b[39;00mdata_rfe\u001b[39m.\u001b[39mOERC_PENDENDTE\u001b[39m.\u001b[39mwhere(data_rfe\u001b[39m.\u001b[39mcluster\u001b[39m \u001b[39m\u001b[39m==\u001b[39m\u001b[39m \u001b[39mi)\u001b[39m.\u001b[39mmedian()\u001b[39m*\u001b[39m\u001b[39m100\u001b[39m\u001b[39m:\u001b[39;00m\u001b[39m.1f\u001b[39m\u001b[39m}\u001b[39;00m\u001b[39m'\u001b[39m)\n\u001b[0;32m      <a href='vscode-notebook-cell:/c%3A/Users/marinaferreira/Downloads/3-Clustering_RFE.ipynb#Y124sZmlsZQ%3D%3D?line=5'>6</a>\u001b[0m ax \u001b[39m=\u001b[39m sns\u001b[39m.\u001b[39mboxplot(x\u001b[39m=\u001b[39mdata_rfe\u001b[39m.\u001b[39mcluster, y\u001b[39m=\u001b[39mdata_rfe\u001b[39m.\u001b[39mOERC_PENDENDTE, showmeans\u001b[39m=\u001b[39m\u001b[39mTrue\u001b[39;00m, meanprops\u001b[39m=\u001b[39m{\u001b[39m\"\u001b[39m\u001b[39mmarker\u001b[39m\u001b[39m\"\u001b[39m: \u001b[39m\"\u001b[39m\u001b[39m+\u001b[39m\u001b[39m\"\u001b[39m, \u001b[39m\"\u001b[39m\u001b[39mmarkeredgecolor\u001b[39m\u001b[39m\"\u001b[39m: \u001b[39m\"\u001b[39m\u001b[39mblack\u001b[39m\u001b[39m\"\u001b[39m, \u001b[39m\"\u001b[39m\u001b[39mmarkersize\u001b[39m\u001b[39m\"\u001b[39m: \u001b[39m\"\u001b[39m\u001b[39m10\u001b[39m\u001b[39m\"\u001b[39m})\n",
      "\u001b[1;31mNameError\u001b[0m: name 'data_rfe' is not defined"
     ]
    }
   ],
   "source": [
    "for i in range(5):\n",
    "    print('Cluster ', i)    \n",
    "    print(f'média: {data_rfe.OERC_PENDENDTE.where(data_rfe.cluster == i).mean()*100:.1f}')\n",
    "    print(f'mediana: {data_rfe.OERC_PENDENDTE.where(data_rfe.cluster == i).median()*100:.1f}')\n",
    "    \n",
    "ax = sns.boxplot(x=data_rfe.cluster, y=data_rfe.OERC_PENDENDTE, showmeans=True, meanprops={\"marker\": \"+\", \"markeredgecolor\": \"black\", \"markersize\": \"10\"})\n",
    "add_median_labels(ax)\n",
    "plt.show()"
   ]
  },
  {
   "cell_type": "code",
   "execution_count": 25,
   "metadata": {},
   "outputs": [
    {
     "name": "stdout",
     "output_type": "stream",
     "text": [
      "Cluster  0\n"
     ]
    },
    {
     "ename": "NameError",
     "evalue": "name 'data_rfe' is not defined",
     "output_type": "error",
     "traceback": [
      "\u001b[1;31m---------------------------------------------------------------------------\u001b[0m",
      "\u001b[1;31mNameError\u001b[0m                                 Traceback (most recent call last)",
      "\u001b[1;32mc:\\Users\\marinaferreira\\Downloads\\3-Clustering_RFE.ipynb Célula 66\u001b[0m line \u001b[0;36m3\n\u001b[0;32m      <a href='vscode-notebook-cell:/c%3A/Users/marinaferreira/Downloads/3-Clustering_RFE.ipynb#Y125sZmlsZQ%3D%3D?line=0'>1</a>\u001b[0m \u001b[39mfor\u001b[39;00m i \u001b[39min\u001b[39;00m \u001b[39mrange\u001b[39m(\u001b[39m5\u001b[39m):\n\u001b[0;32m      <a href='vscode-notebook-cell:/c%3A/Users/marinaferreira/Downloads/3-Clustering_RFE.ipynb#Y125sZmlsZQ%3D%3D?line=1'>2</a>\u001b[0m     \u001b[39mprint\u001b[39m(\u001b[39m'\u001b[39m\u001b[39mCluster \u001b[39m\u001b[39m'\u001b[39m, i)    \n\u001b[1;32m----> <a href='vscode-notebook-cell:/c%3A/Users/marinaferreira/Downloads/3-Clustering_RFE.ipynb#Y125sZmlsZQ%3D%3D?line=2'>3</a>\u001b[0m     \u001b[39mprint\u001b[39m(\u001b[39mf\u001b[39m\u001b[39m'\u001b[39m\u001b[39mmédia: \u001b[39m\u001b[39m{\u001b[39;00mdata_rfe\u001b[39m.\u001b[39mPERC_ADIMPLENTE\u001b[39m.\u001b[39mwhere(data_rfe\u001b[39m.\u001b[39mcluster\u001b[39m \u001b[39m\u001b[39m==\u001b[39m\u001b[39m \u001b[39mi)\u001b[39m.\u001b[39mmean()\u001b[39m*\u001b[39m\u001b[39m100\u001b[39m\u001b[39m:\u001b[39;00m\u001b[39m.1f\u001b[39m\u001b[39m}\u001b[39;00m\u001b[39m'\u001b[39m)\n\u001b[0;32m      <a href='vscode-notebook-cell:/c%3A/Users/marinaferreira/Downloads/3-Clustering_RFE.ipynb#Y125sZmlsZQ%3D%3D?line=3'>4</a>\u001b[0m     \u001b[39mprint\u001b[39m(\u001b[39mf\u001b[39m\u001b[39m'\u001b[39m\u001b[39mmediana: \u001b[39m\u001b[39m{\u001b[39;00mdata_rfe\u001b[39m.\u001b[39mPERC_ADIMPLENTE\u001b[39m.\u001b[39mwhere(data_rfe\u001b[39m.\u001b[39mcluster\u001b[39m \u001b[39m\u001b[39m==\u001b[39m\u001b[39m \u001b[39mi)\u001b[39m.\u001b[39mmedian()\u001b[39m*\u001b[39m\u001b[39m100\u001b[39m\u001b[39m:\u001b[39;00m\u001b[39m.1f\u001b[39m\u001b[39m}\u001b[39;00m\u001b[39m'\u001b[39m)\n\u001b[0;32m      <a href='vscode-notebook-cell:/c%3A/Users/marinaferreira/Downloads/3-Clustering_RFE.ipynb#Y125sZmlsZQ%3D%3D?line=5'>6</a>\u001b[0m ax \u001b[39m=\u001b[39m sns\u001b[39m.\u001b[39mboxplot(x\u001b[39m=\u001b[39mdata_rfe\u001b[39m.\u001b[39mcluster, y\u001b[39m=\u001b[39mdata_rfe\u001b[39m.\u001b[39mPERC_ADIMPLENTE, showmeans\u001b[39m=\u001b[39m\u001b[39mTrue\u001b[39;00m, meanprops\u001b[39m=\u001b[39m{\u001b[39m\"\u001b[39m\u001b[39mmarker\u001b[39m\u001b[39m\"\u001b[39m: \u001b[39m\"\u001b[39m\u001b[39m+\u001b[39m\u001b[39m\"\u001b[39m, \u001b[39m\"\u001b[39m\u001b[39mmarkeredgecolor\u001b[39m\u001b[39m\"\u001b[39m: \u001b[39m\"\u001b[39m\u001b[39mblack\u001b[39m\u001b[39m\"\u001b[39m, \u001b[39m\"\u001b[39m\u001b[39mmarkersize\u001b[39m\u001b[39m\"\u001b[39m: \u001b[39m\"\u001b[39m\u001b[39m10\u001b[39m\u001b[39m\"\u001b[39m})\n",
      "\u001b[1;31mNameError\u001b[0m: name 'data_rfe' is not defined"
     ]
    }
   ],
   "source": [
    "for i in range(5):\n",
    "    print('Cluster ', i)    \n",
    "    print(f'média: {data_rfe.PERC_ADIMPLENTE.where(data_rfe.cluster == i).mean()*100:.1f}')\n",
    "    print(f'mediana: {data_rfe.PERC_ADIMPLENTE.where(data_rfe.cluster == i).median()*100:.1f}')\n",
    "    \n",
    "ax = sns.boxplot(x=data_rfe.cluster, y=data_rfe.PERC_ADIMPLENTE, showmeans=True, meanprops={\"marker\": \"+\", \"markeredgecolor\": \"black\", \"markersize\": \"10\"})\n",
    "add_median_labels(ax)\n",
    "plt.show()"
   ]
  },
  {
   "cell_type": "code",
   "execution_count": 26,
   "metadata": {},
   "outputs": [
    {
     "name": "stdout",
     "output_type": "stream",
     "text": [
      "Cluster  0\n"
     ]
    },
    {
     "ename": "NameError",
     "evalue": "name 'data_rfe' is not defined",
     "output_type": "error",
     "traceback": [
      "\u001b[1;31m---------------------------------------------------------------------------\u001b[0m",
      "\u001b[1;31mNameError\u001b[0m                                 Traceback (most recent call last)",
      "\u001b[1;32mc:\\Users\\marinaferreira\\Downloads\\3-Clustering_RFE.ipynb Célula 67\u001b[0m line \u001b[0;36m3\n\u001b[0;32m      <a href='vscode-notebook-cell:/c%3A/Users/marinaferreira/Downloads/3-Clustering_RFE.ipynb#Y126sZmlsZQ%3D%3D?line=0'>1</a>\u001b[0m \u001b[39mfor\u001b[39;00m i \u001b[39min\u001b[39;00m \u001b[39mrange\u001b[39m(\u001b[39m5\u001b[39m):\n\u001b[0;32m      <a href='vscode-notebook-cell:/c%3A/Users/marinaferreira/Downloads/3-Clustering_RFE.ipynb#Y126sZmlsZQ%3D%3D?line=1'>2</a>\u001b[0m     \u001b[39mprint\u001b[39m(\u001b[39m'\u001b[39m\u001b[39mCluster \u001b[39m\u001b[39m'\u001b[39m, i)    \n\u001b[1;32m----> <a href='vscode-notebook-cell:/c%3A/Users/marinaferreira/Downloads/3-Clustering_RFE.ipynb#Y126sZmlsZQ%3D%3D?line=2'>3</a>\u001b[0m     \u001b[39mprint\u001b[39m(\u001b[39mf\u001b[39m\u001b[39m'\u001b[39m\u001b[39mmédia: \u001b[39m\u001b[39m{\u001b[39;00mdata_rfe\u001b[39m.\u001b[39mCONTRATO\u001b[39m.\u001b[39mwhere(data_rfe\u001b[39m.\u001b[39mcluster\u001b[39m \u001b[39m\u001b[39m==\u001b[39m\u001b[39m \u001b[39mi)\u001b[39m.\u001b[39mmean()\u001b[39m*\u001b[39m\u001b[39m100\u001b[39m\u001b[39m:\u001b[39;00m\u001b[39m.1f\u001b[39m\u001b[39m}\u001b[39;00m\u001b[39m'\u001b[39m)\n\u001b[0;32m      <a href='vscode-notebook-cell:/c%3A/Users/marinaferreira/Downloads/3-Clustering_RFE.ipynb#Y126sZmlsZQ%3D%3D?line=3'>4</a>\u001b[0m     \u001b[39mprint\u001b[39m(\u001b[39mf\u001b[39m\u001b[39m'\u001b[39m\u001b[39mmediana: \u001b[39m\u001b[39m{\u001b[39;00mdata_rfe\u001b[39m.\u001b[39mCONTRATO\u001b[39m.\u001b[39mwhere(data_rfe\u001b[39m.\u001b[39mcluster\u001b[39m \u001b[39m\u001b[39m==\u001b[39m\u001b[39m \u001b[39mi)\u001b[39m.\u001b[39mmedian()\u001b[39m*\u001b[39m\u001b[39m100\u001b[39m\u001b[39m:\u001b[39;00m\u001b[39m.1f\u001b[39m\u001b[39m}\u001b[39;00m\u001b[39m'\u001b[39m)\n\u001b[0;32m      <a href='vscode-notebook-cell:/c%3A/Users/marinaferreira/Downloads/3-Clustering_RFE.ipynb#Y126sZmlsZQ%3D%3D?line=5'>6</a>\u001b[0m ax \u001b[39m=\u001b[39m sns\u001b[39m.\u001b[39mboxplot(x\u001b[39m=\u001b[39mdata_rfe\u001b[39m.\u001b[39mcluster, y\u001b[39m=\u001b[39mdata_rfe\u001b[39m.\u001b[39mCONTRATO, showmeans\u001b[39m=\u001b[39m\u001b[39mTrue\u001b[39;00m, meanprops\u001b[39m=\u001b[39m{\u001b[39m\"\u001b[39m\u001b[39mmarker\u001b[39m\u001b[39m\"\u001b[39m: \u001b[39m\"\u001b[39m\u001b[39m+\u001b[39m\u001b[39m\"\u001b[39m, \u001b[39m\"\u001b[39m\u001b[39mmarkeredgecolor\u001b[39m\u001b[39m\"\u001b[39m: \u001b[39m\"\u001b[39m\u001b[39mblack\u001b[39m\u001b[39m\"\u001b[39m, \u001b[39m\"\u001b[39m\u001b[39mmarkersize\u001b[39m\u001b[39m\"\u001b[39m: \u001b[39m\"\u001b[39m\u001b[39m10\u001b[39m\u001b[39m\"\u001b[39m})\n",
      "\u001b[1;31mNameError\u001b[0m: name 'data_rfe' is not defined"
     ]
    }
   ],
   "source": [
    "for i in range(5):\n",
    "    print('Cluster ', i)    \n",
    "    print(f'média: {data_rfe.CONTRATO.where(data_rfe.cluster == i).mean()*100:.1f}')\n",
    "    print(f'mediana: {data_rfe.CONTRATO.where(data_rfe.cluster == i).median()*100:.1f}')\n",
    "    \n",
    "ax = sns.boxplot(x=data_rfe.cluster, y=data_rfe.CONTRATO, showmeans=True, meanprops={\"marker\": \"+\", \"markeredgecolor\": \"black\", \"markersize\": \"10\"})\n",
    "add_median_labels(ax)\n",
    "plt.show()"
   ]
  },
  {
   "cell_type": "code",
   "execution_count": 132,
   "metadata": {},
   "outputs": [
    {
     "name": "stdout",
     "output_type": "stream",
     "text": [
      "Collecting ipyparams\n",
      "  Downloading ipyparams-0.2.1.tar.gz (2.7 kB)\n",
      "  Preparing metadata (setup.py) ... \u001b[?25ldone\n",
      "\u001b[?25hBuilding wheels for collected packages: ipyparams\n",
      "  Building wheel for ipyparams (setup.py) ... \u001b[?25ldone\n",
      "\u001b[?25h  Created wheel for ipyparams: filename=ipyparams-0.2.1-py3-none-any.whl size=2764 sha256=3f5e2eaaa62c1f9d5f4e9b2a8cc7b675ca7dff2ae374361050f91b69ace22341\n",
      "  Stored in directory: /home/tatianecorreia/.cache/pip/wheels/da/e5/08/62102ec78fa21e5cc63ac9d6cc85b30971817e91ce021a6613\n",
      "Successfully built ipyparams\n",
      "Installing collected packages: ipyparams\n",
      "Successfully installed ipyparams-0.2.1\n"
     ]
    }
   ],
   "source": [
    "!pip install ipyparams"
   ]
  },
  {
   "cell_type": "code",
   "execution_count": 133,
   "metadata": {},
   "outputs": [
    {
     "data": {
      "application/javascript": "\nconsole.log('Starting front end url_querystring_target comm target');\nconst comm = Jupyter.notebook.kernel.comm_manager.new_comm('url_querystring_target', {'init': 1});\ncomm.send({'ipyparams_browser_url': window.location.href});\nconsole.log('Sent window.location.href on url_querystring_target comm target');\n\ncomm.on_msg(function(msg) {\n    console.log(msg.content.data);\n});\n",
      "text/plain": [
       "<IPython.core.display.Javascript object>"
      ]
     },
     "metadata": {},
     "output_type": "display_data"
    }
   ],
   "source": [
    "%matplotlib inline\n",
    "import os \n",
    "import ipyparams"
   ]
  },
  {
   "cell_type": "markdown",
   "metadata": {},
   "source": []
  }
 ],
 "metadata": {
  "kernelspec": {
   "display_name": "falconi",
   "language": "python",
   "name": "python3"
  },
  "language_info": {
   "codemirror_mode": {
    "name": "ipython",
    "version": 3
   },
   "file_extension": ".py",
   "mimetype": "text/x-python",
   "name": "python",
   "nbconvert_exporter": "python",
   "pygments_lexer": "ipython3",
   "version": "3.11.6"
  },
  "orig_nbformat": 4,
  "vscode": {
   "interpreter": {
    "hash": "1742243f245c369aba97dfcdbb850561fcc24820d8c67b03f82852a8dc427f00"
   }
  }
 },
 "nbformat": 4,
 "nbformat_minor": 2
}
